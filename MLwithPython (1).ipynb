{
 "cells": [
  {
   "cell_type": "markdown",
   "metadata": {
    "id": "uxFxm2LqTbDK"
   },
   "source": [
    "# សេចក្តីផ្តើមនៃ Python3"
   ]
  },
  {
   "cell_type": "markdown",
   "metadata": {
    "id": "9d1uXoqSTjs4"
   },
   "source": [
    "## ប្រមាណវិធីគ្រឹះ"
   ]
  },
  {
   "cell_type": "markdown",
   "metadata": {
    "id": "230F0jbMT2rF"
   },
   "source": [
    "\n",
    "\n",
    "  ប្រមាណវិធីបូក + ប្រមាណវិធីដក​ - ប្រមាណវិធីគុណ * ​ ប្រមាណវិធីចែក / ឬ //  គណនាសំណល់នៃប្រមាណវិធីចែក %\n",
    "\n"
   ]
  },
  {
   "cell_type": "code",
   "execution_count": 1,
   "metadata": {
    "colab": {
     "base_uri": "https://localhost:8080/"
    },
    "id": "j--et1mhTw_g",
    "outputId": "f3233ec4-d1b7-4d12-dfa1-fa28a94d9bbd"
   },
   "outputs": [
    {
     "data": {
      "text/plain": [
       "2042"
      ]
     },
     "execution_count": 1,
     "metadata": {},
     "output_type": "execute_result"
    }
   ],
   "source": [
    "2020 + 22"
   ]
  },
  {
   "cell_type": "code",
   "execution_count": 2,
   "metadata": {
    "colab": {
     "base_uri": "https://localhost:8080/"
    },
    "id": "o8-7AM0CTrD5",
    "outputId": "4b241319-7e62-4a1e-f051-cc9ef1b0f37c"
   },
   "outputs": [
    {
     "data": {
      "text/plain": [
       "1998"
      ]
     },
     "execution_count": 2,
     "metadata": {},
     "output_type": "execute_result"
    }
   ],
   "source": [
    "2020 - 22"
   ]
  },
  {
   "cell_type": "code",
   "execution_count": 3,
   "metadata": {
    "colab": {
     "base_uri": "https://localhost:8080/"
    },
    "id": "pHZe6LvHUd8O",
    "outputId": "c770ef29-5384-4ca8-ac93-b767e81af55a"
   },
   "outputs": [
    {
     "data": {
      "text/plain": [
       "8989"
      ]
     },
     "execution_count": 3,
     "metadata": {},
     "output_type": "execute_result"
    }
   ],
   "source": [
    "101 * 89"
   ]
  },
  {
   "cell_type": "code",
   "execution_count": 4,
   "metadata": {
    "colab": {
     "base_uri": "https://localhost:8080/"
    },
    "id": "Nvi6ATDHUhow",
    "outputId": "fadf9e2a-155b-464a-b6ec-4fcb0986eb92"
   },
   "outputs": [
    {
     "data": {
      "text/plain": [
       "2.7142857142857144"
      ]
     },
     "execution_count": 4,
     "metadata": {},
     "output_type": "execute_result"
    }
   ],
   "source": [
    "19 / 7      # លទ្ធផលនៃប្រមាណវិធីចែកតាមរយៈ / គឺជាទម្រង់ទសភាគ"
   ]
  },
  {
   "cell_type": "code",
   "execution_count": 5,
   "metadata": {
    "colab": {
     "base_uri": "https://localhost:8080/"
    },
    "id": "sj1yCqmKUlBg",
    "outputId": "3ce0c74c-331c-471d-c1e5-6a580bbd4233"
   },
   "outputs": [
    {
     "data": {
      "text/plain": [
       "2"
      ]
     },
     "execution_count": 5,
     "metadata": {},
     "output_type": "execute_result"
    }
   ],
   "source": [
    "19 // 7      # លទ្ធផលនៃប្រមាណវិធីចែកតាមរយៈ // គឺជាទម្រង់ចំនួនគត់"
   ]
  },
  {
   "cell_type": "code",
   "execution_count": 6,
   "metadata": {
    "colab": {
     "base_uri": "https://localhost:8080/"
    },
    "id": "aVXqrn95VFD8",
    "outputId": "d6791943-5b24-4f69-992f-bf830c7010d7"
   },
   "outputs": [
    {
     "data": {
      "text/plain": [
       "5"
      ]
     },
     "execution_count": 6,
     "metadata": {},
     "output_type": "execute_result"
    }
   ],
   "source": [
    "19 % 7"
   ]
  },
  {
   "cell_type": "markdown",
   "metadata": {
    "id": "cJRXXN7lU-z4"
   },
   "source": [
    "គណនា $a^{x}$ ដោយ $a$**$x$"
   ]
  },
  {
   "cell_type": "code",
   "execution_count": 7,
   "metadata": {
    "colab": {
     "base_uri": "https://localhost:8080/"
    },
    "id": "vugVJcduUznV",
    "outputId": "dcf0fdd1-7e11-4249-e5fd-caf448bd6f43"
   },
   "outputs": [
    {
     "data": {
      "text/plain": [
       "125"
      ]
     },
     "execution_count": 7,
     "metadata": {},
     "output_type": "execute_result"
    }
   ],
   "source": [
    "5**3  "
   ]
  },
  {
   "cell_type": "markdown",
   "metadata": {
    "id": "leI299kIVihm"
   },
   "source": [
    "លំដាប់អាទិភាពនៃប្រមាណវិធីគឺ ** > *,/,//,% > +,-(ប្រមាណវិធីដក)"
   ]
  },
  {
   "cell_type": "code",
   "execution_count": 8,
   "metadata": {
    "colab": {
     "base_uri": "https://localhost:8080/"
    },
    "id": "lRb0XM8kVeUt",
    "outputId": "2ae41f5f-92d7-4fd1-b027-fc1e9296c705"
   },
   "outputs": [
    {
     "data": {
      "text/plain": [
       "21"
      ]
     },
     "execution_count": 8,
     "metadata": {},
     "output_type": "execute_result"
    }
   ],
   "source": [
    "5 + 8*2 "
   ]
  },
  {
   "cell_type": "code",
   "execution_count": 9,
   "metadata": {
    "colab": {
     "base_uri": "https://localhost:8080/"
    },
    "id": "7GQiTbYXV0Hw",
    "outputId": "86214856-bae6-42cc-b382-630ab53deb6f"
   },
   "outputs": [
    {
     "data": {
      "text/plain": [
       "26"
      ]
     },
     "execution_count": 9,
     "metadata": {},
     "output_type": "execute_result"
    }
   ],
   "source": [
    "(5+8)*2"
   ]
  },
  {
   "cell_type": "markdown",
   "metadata": {
    "id": "6sUWcBSLWChp"
   },
   "source": [
    "ទម្រង់ស្តង់ $a\\times 10^{b}$ អាចគណនាបានដោយ $a$e$b$"
   ]
  },
  {
   "cell_type": "markdown",
   "metadata": {
    "id": "K4_J50l6WXL9"
   },
   "source": [
    "\n",
    "\n",
    "1.   $1.2\\times 10^{-11}$\n",
    "2.   $1.0\\times 10^{-3}$\n",
    "\n"
   ]
  },
  {
   "cell_type": "code",
   "execution_count": 10,
   "metadata": {
    "colab": {
     "base_uri": "https://localhost:8080/"
    },
    "id": "Z7X2Z2rJV210",
    "outputId": "80e1a838-42d2-4165-9444-e90a70dd84e9"
   },
   "outputs": [
    {
     "data": {
      "text/plain": [
       "1.2e-11"
      ]
     },
     "execution_count": 10,
     "metadata": {},
     "output_type": "execute_result"
    }
   ],
   "source": [
    "#1.\n",
    "1.2e-11"
   ]
  },
  {
   "cell_type": "code",
   "execution_count": 11,
   "metadata": {
    "colab": {
     "base_uri": "https://localhost:8080/"
    },
    "id": "1EMVu_LYWl2D",
    "outputId": "11e7ecd9-9e03-44f2-99ab-ba64be824bf7"
   },
   "outputs": [
    {
     "data": {
      "text/plain": [
       "0.001"
      ]
     },
     "execution_count": 11,
     "metadata": {},
     "output_type": "execute_result"
    }
   ],
   "source": [
    "#2.\n",
    "1.0e-3"
   ]
  },
  {
   "cell_type": "code",
   "execution_count": null,
   "metadata": {
    "id": "2MEXL5UHWnzd"
   },
   "outputs": [],
   "source": []
  },
  {
   "cell_type": "markdown",
   "metadata": {
    "id": "3TWrEI8xWxsK"
   },
   "source": [
    "## អថេរ Variable"
   ]
  },
  {
   "cell_type": "markdown",
   "metadata": {
    "id": "kB9eTsvdW7Mu"
   },
   "source": [
    "អថេរនឹងត្រូវបានប្រកាសដោយស្វ័យប្រវត្តិរាល់នៅពេលដែល ប្រយោគជំនួសតម្លៃអថេរត្រូវបានបង្កើតឡើង។ ជាមួយគ្នានោះដែរប្រភេទនៃអថេរ(Type)ក៏ត្រូវបានកំណត់ដោយស្វ័យប្រវត្តិ។"
   ]
  },
  {
   "cell_type": "code",
   "execution_count": 12,
   "metadata": {
    "colab": {
     "base_uri": "https://localhost:8080/"
    },
    "id": "cEuCIv6dW1Mm",
    "outputId": "37b5d21e-2a7f-4c63-dd20-9e5e0c3c0a67"
   },
   "outputs": [
    {
     "name": "stdout",
     "output_type": "stream",
     "text": [
      "3\n"
     ]
    },
    {
     "data": {
      "text/plain": [
       "int"
      ]
     },
     "execution_count": 12,
     "metadata": {},
     "output_type": "execute_result"
    }
   ],
   "source": [
    "x = 3\n",
    "print(x)\n",
    "type(x)"
   ]
  },
  {
   "cell_type": "markdown",
   "metadata": {
    "id": "1P4vQ8zXATy_"
   },
   "source": [
    "អ្នកអាចលុបobjectនៃអថេរបានដោយប្រើ del "
   ]
  },
  {
   "cell_type": "code",
   "execution_count": 13,
   "metadata": {
    "colab": {
     "base_uri": "https://localhost:8080/",
     "height": 183
    },
    "id": "61MJfHw3ABIQ",
    "outputId": "2edf4eff-25cb-4e51-d105-61fd011667ff"
   },
   "outputs": [
    {
     "ename": "NameError",
     "evalue": "name 'x' is not defined",
     "output_type": "error",
     "traceback": [
      "\u001b[1;31m---------------------------------------------------------------------------\u001b[0m",
      "\u001b[1;31mNameError\u001b[0m                                 Traceback (most recent call last)",
      "\u001b[1;32m~\\AppData\\Local\\Temp/ipykernel_12440/4191303919.py\u001b[0m in \u001b[0;36m<module>\u001b[1;34m\u001b[0m\n\u001b[0;32m      1\u001b[0m \u001b[1;32mdel\u001b[0m \u001b[0mx\u001b[0m\u001b[1;33m\u001b[0m\u001b[1;33m\u001b[0m\u001b[0m\n\u001b[1;32m----> 2\u001b[1;33m \u001b[0mprint\u001b[0m\u001b[1;33m(\u001b[0m\u001b[0mx\u001b[0m\u001b[1;33m)\u001b[0m  \u001b[1;31m#error ពីព្រោះ x ត្រូវបានលុបរួចទៅហើយ\u001b[0m\u001b[1;33m\u001b[0m\u001b[1;33m\u001b[0m\u001b[0m\n\u001b[0m",
      "\u001b[1;31mNameError\u001b[0m: name 'x' is not defined"
     ]
    }
   ],
   "source": [
    "del x\n",
    "print(x)  #error ពីព្រោះ x ត្រូវបានលុបរួចទៅហើយ"
   ]
  },
  {
   "cell_type": "markdown",
   "metadata": {
    "id": "jMjPOGIhAoPB"
   },
   "source": [
    "សំណេរផ្សេងៗទាក់ទងនឹងការជំនួសតម្លៃនៃអថេរអាចធ្វើបានដូចខាងក្រោម"
   ]
  },
  {
   "cell_type": "code",
   "execution_count": null,
   "metadata": {
    "colab": {
     "base_uri": "https://localhost:8080/"
    },
    "id": "4tQfBHIMAOwb",
    "outputId": "01aa27ae-0759-4abe-ec6a-b3d54b699a37"
   },
   "outputs": [],
   "source": [
    "x = 2 \n",
    "y = x*x + 2*x +1\n",
    "print(\"x=\",x)\n",
    "print(\"y=x*x+2*x+1=\",y)"
   ]
  },
  {
   "cell_type": "code",
   "execution_count": null,
   "metadata": {
    "colab": {
     "base_uri": "https://localhost:8080/"
    },
    "id": "3_UCal9oA22f",
    "outputId": "a76f7de9-1ce6-4850-9068-1877049ef504"
   },
   "outputs": [],
   "source": [
    "a, b = -4,2\n",
    "print(\"a+b=\",a+b)\n",
    "print(\"a*b=\",a*b)\n",
    "print(\"a**b=\",a**b)"
   ]
  },
  {
   "cell_type": "markdown",
   "metadata": {
    "id": "hMt2ZNXNBdYn"
   },
   "source": [
    "## ការគ្រប់គ្រងនិងបញ្ជាលើដំណើរការនានា"
   ]
  },
  {
   "cell_type": "markdown",
   "metadata": {
    "id": "nSRseRNLBKMG"
   },
   "source": [
    "ការគ្រប់គ្រងដំណើរការនានាអាចធ្វើឡើងតាមរយៈ for, if, while ដូចក្នុងភាសាប្រូក្រាមនានាដែរ "
   ]
  },
  {
   "cell_type": "code",
   "execution_count": null,
   "metadata": {
    "colab": {
     "base_uri": "https://localhost:8080/"
    },
    "id": "Y0VfZ2l0BDl4",
    "outputId": "2d472220-f498-4469-dccb-d537a8e3b6de"
   },
   "outputs": [],
   "source": [
    "# for ប្រើសម្រាប់បញ្ជាលើដំណើរម្តងហើយម្តងទៀត\n",
    "for idx in range(5):   # range(5) ចន្លោះបិទលើបន្ទាត់ចំនួនគត់ពី0ដល់4(=5-1)\n",
    "  print(idx,\"---\",12**idx)"
   ]
  },
  {
   "cell_type": "code",
   "execution_count": null,
   "metadata": {
    "colab": {
     "base_uri": "https://localhost:8080/"
    },
    "id": "FyGnf7QdCN8T",
    "outputId": "50b2e041-7218-4cc1-aac4-89a27bc024b3"
   },
   "outputs": [],
   "source": [
    "# if បំណែងចែកដំណើរការតាមលក្ខខណ្ឌ\n",
    "c = 38.0\n",
    "#c = 37.0\n",
    "#c = 35.8\n",
    "\n",
    "if (c > 37.5):\n",
    "  print(\"Attention!!!!\")\n",
    "elif (c == 37.5):         # ប្រើ == ដើម្បីប្រៀបធៀបសមភាពរវាងអង្គទាំងសងខាង \n",
    "  print(\"Be careful!!\")\n",
    "else:\n",
    "  print(\"Hello!\")\n",
    "\n"
   ]
  },
  {
   "cell_type": "code",
   "execution_count": null,
   "metadata": {
    "colab": {
     "base_uri": "https://localhost:8080/"
    },
    "id": "wmXGke2gDHCg",
    "outputId": "b8e2e70d-33e3-4df8-a2cd-08ffe5511f83"
   },
   "outputs": [],
   "source": [
    "# while ដំណើរដដែលជាមួយលក្ខខណ្ឌអម\n",
    "x = 0.5\n",
    "while True:\n",
    "  fx = x**2 - 3\n",
    "  ffx = 2*x\n",
    "  print(x, fx)\n",
    "  if -1e-8 < fx < 1e-8:\n",
    "    break\n",
    "  x -= fx / ffx\n",
    "\n",
    "print(\"answer x~~\",x)\n",
    "print(\"squar root of 3 =\", 3**0.5)"
   ]
  },
  {
   "cell_type": "markdown",
   "metadata": {
    "id": "6L2HkqFaEfat"
   },
   "source": [
    "នៅក្នុងដំណើរដដែលfor, while អ្នកអាចប្រើ continue, breakដើម្បីបន្តដំណើរការឬបញ្ឈប់ដំណើរការបាន"
   ]
  },
  {
   "cell_type": "code",
   "execution_count": 1,
   "metadata": {
    "colab": {
     "base_uri": "https://localhost:8080/"
    },
    "id": "ftP7hnTXENAb",
    "outputId": "a4c5ab36-8021-4a71-91df-ea7180e23568"
   },
   "outputs": [
    {
     "name": "stdout",
     "output_type": "stream",
     "text": [
      "1 1\n",
      "2 2\n",
      "3 2\n",
      "4 2\n",
      "5 3\n",
      "6 3\n",
      "7 3\n",
      "8 3\n",
      "9 3\n"
     ]
    }
   ],
   "source": [
    "MAX = 10\n",
    "for i in range(1,MAX):\n",
    "  for j in range(1,MAX):\n",
    "    if i*j <= j**3 :\n",
    "      print(i,j)\n",
    "      break\n",
    "    else :\n",
    "      continue\n",
    "    print(i,j)"
   ]
  },
  {
   "cell_type": "code",
   "execution_count": 25,
   "metadata": {
    "colab": {
     "base_uri": "https://localhost:8080/"
    },
    "id": "goYQyUifFPcS",
    "outputId": "8906a9a7-f0ae-4483-d571-4949aeee5551"
   },
   "outputs": [
    {
     "name": "stdout",
     "output_type": "stream",
     "text": [
      "2,3,5,7,11,13,17,19,23,ជាចំនួនបឋម\n"
     ]
    }
   ],
   "source": [
    "N = 25\n",
    "for n in range(2, N+1):\n",
    "    for a in range(2, n//2+1):\n",
    "        if n % a == 0:\n",
    "            #print(n, 'មិនមែនជាចំនួនបឋមទេ')\n",
    "            break\n",
    "    else:\n",
    "        print(n, end=',')\n",
    "print('ជាចំនួនបឋម')"
   ]
  },
  {
   "cell_type": "markdown",
   "metadata": {
    "id": "3Xih033MGuXL"
   },
   "source": [
    "## អនុគមន៍ Function"
   ]
  },
  {
   "cell_type": "markdown",
   "metadata": {
    "id": "qTkUVZSAGyP_"
   },
   "source": [
    "ការប្រកាសអនុគមន៍អាចធ្វើឡើងបានដោយប្រើ def \n",
    "\n",
    "\n",
    "\n",
    "```\n",
    "def　ឈ្មោះអនុគមន៍ (ធាតុចូលទី១, ធាតុចូលទី២, ....):\n",
    "  #ដំណើការនៃអនុគមន៍\n",
    "```\n",
    "\n"
   ]
  },
  {
   "cell_type": "code",
   "execution_count": null,
   "metadata": {
    "colab": {
     "base_uri": "https://localhost:8080/"
    },
    "id": "q5NYvc1cGOZU",
    "outputId": "0cde12c7-14ef-4bb3-fa3d-d5433a60f572"
   },
   "outputs": [],
   "source": [
    "def printNtime(word,N):\n",
    "  for i in range(N):\n",
    "    print(word,end='')\n",
    "  \n",
    "printNtime('Python',3)"
   ]
  },
  {
   "cell_type": "markdown",
   "metadata": {
    "id": "ZhEFU7HnH3-k"
   },
   "source": [
    "```\n",
    "def　ឈ្មោះអនុគមន៍ (ធាតុចូលទី១, ធាតុចូលទី២, ....):\n",
    "  #ដំណើការនៃអនុគមន៍\n",
    "  return #លទ្ធផល\n",
    "```"
   ]
  },
  {
   "cell_type": "code",
   "execution_count": null,
   "metadata": {
    "colab": {
     "base_uri": "https://localhost:8080/"
    },
    "id": "yVeQLIhyHJn5",
    "outputId": "40ae3651-e580-40c8-a70a-661dd933eb33"
   },
   "outputs": [],
   "source": [
    "def sum(a,b):\n",
    "  return a+b\n",
    "\n",
    "sum(2020,12)"
   ]
  },
  {
   "cell_type": "code",
   "execution_count": 2,
   "metadata": {
    "colab": {
     "base_uri": "https://localhost:8080/"
    },
    "id": "39xXmcIwIHtk",
    "outputId": "4f4e1276-a942-4de3-b509-80e0015f8e93"
   },
   "outputs": [
    {
     "name": "stdout",
     "output_type": "stream",
     "text": [
      "GCD(32,28)= 4\n",
      "GCD(13572,75114)= 234\n"
     ]
    }
   ],
   "source": [
    "def gcd(a,b):\n",
    "  \"\"\"\n",
    "  គណនាតម្លៃតួចែករួមធំបំផុតនៃពីរចំនួនគត់\n",
    "  Ex: gcd(12,20) = 4,  gcd(125,50)=25\n",
    "  \"\"\"\n",
    "  if a<b:\n",
    "    tmp = a\n",
    "    a = b\n",
    "    b = tmp\n",
    "  r = a%b\n",
    "  if r==0:\n",
    "    return b\n",
    "  else:\n",
    "    return gcd(b,r)\n",
    "\n",
    "print(\"GCD(32,28)=\",gcd(32,28))\n",
    "print(\"GCD(13572,75114)=\",gcd(13572,75114))"
   ]
  },
  {
   "cell_type": "code",
   "execution_count": null,
   "metadata": {
    "colab": {
     "base_uri": "https://localhost:8080/"
    },
    "id": "hszpg86hJGjX",
    "outputId": "ae040aeb-4665-4099-b774-7d0bbbeb2355"
   },
   "outputs": [],
   "source": [
    "help(gcd)"
   ]
  },
  {
   "cell_type": "markdown",
   "metadata": {
    "id": "hnVGwyQvJ2My"
   },
   "source": [
    "ក្នុងPython, function ដែលប្រកាសរួចអាចប្រើជា object សម្រាប់ជាធាតុចូលនៃ function ដទៃទៀតបានយ៉ាងងាយ"
   ]
  },
  {
   "cell_type": "code",
   "execution_count": null,
   "metadata": {
    "id": "oQiou63xJtC3"
   },
   "outputs": [],
   "source": [
    "# ខាងក្រោមនេះជាគម្រូនៃការអនុវត្តវិធីសាស្រ្តដោះស្រាយសមីការតាម newton-raphson\n",
    "\n",
    "def f(x):\n",
    "    return x ** 2 - 3 * x -4\n",
    "\n",
    "def df(x):\n",
    "    return 2 * x - 3\n",
    "\n",
    "def newton_raphson(func_f, func_df, x=1):\n",
    "    while True:\n",
    "        fx, dfx = func_f(x), func_df(x)\n",
    "        if -1e-8 < fx < 1e-8:\n",
    "            return x\n",
    "        x -= fx / dfx"
   ]
  },
  {
   "cell_type": "code",
   "execution_count": null,
   "metadata": {
    "colab": {
     "base_uri": "https://localhost:8080/"
    },
    "id": "G3DXn3JjJtlr",
    "outputId": "91319354-ecec-48cf-8de8-eca0ae6ff62b"
   },
   "outputs": [],
   "source": [
    "newton_raphson(f, df, x=0)"
   ]
  },
  {
   "cell_type": "markdown",
   "metadata": {
    "id": "F0VannT8LFB5"
   },
   "source": [
    "អ្នកអាចប្រកាសfunctionដោយគ្មានឈ្មោះដោយប្រើ lambda\n",
    "\n",
    "\n",
    "\n",
    "```\n",
    "lambda input:output\n",
    "```\n",
    "\n"
   ]
  },
  {
   "cell_type": "code",
   "execution_count": null,
   "metadata": {
    "id": "x_h4OyCMKcP_"
   },
   "outputs": [],
   "source": [
    "f = lambda x:2**x+3*x"
   ]
  },
  {
   "cell_type": "code",
   "execution_count": null,
   "metadata": {
    "colab": {
     "base_uri": "https://localhost:8080/"
    },
    "id": "vy1rbQ2JLiBW",
    "outputId": "b428f2c1-316d-4e8b-ef8c-23fdf975a908"
   },
   "outputs": [],
   "source": [
    "print(\"f(0)=\",f(0))\n",
    "print(\"f(-2)=\",f(-2))"
   ]
  },
  {
   "cell_type": "code",
   "execution_count": null,
   "metadata": {
    "colab": {
     "base_uri": "https://localhost:8080/"
    },
    "id": "3KLiPA2ELiip",
    "outputId": "d32f9bf3-3afd-497f-e388-1eef13b53872"
   },
   "outputs": [],
   "source": [
    "newton_raphson(lambda x:x ** 2 - 3 * x -4, lambda x:2*x-3, x=0)"
   ]
  },
  {
   "cell_type": "markdown",
   "metadata": {
    "id": "1GkyCZEXL_jw"
   },
   "source": [
    "## បញ្ជី List "
   ]
  },
  {
   "cell_type": "markdown",
   "metadata": {
    "id": "E3A6OBOQMFOC"
   },
   "source": [
    "list គឺជាបណ្តុំនៃតម្លៃឬobject"
   ]
  },
  {
   "cell_type": "code",
   "execution_count": null,
   "metadata": {
    "colab": {
     "base_uri": "https://localhost:8080/"
    },
    "id": "_Am_dRfkL7BQ",
    "outputId": "c90580fe-b95c-4059-eb4a-894920ab5f01"
   },
   "outputs": [],
   "source": [
    "L = [2,3,5,7,11]\n",
    "print(L)\n",
    "type(L)"
   ]
  },
  {
   "cell_type": "code",
   "execution_count": null,
   "metadata": {
    "colab": {
     "base_uri": "https://localhost:8080/"
    },
    "id": "4avvkkrzMTki",
    "outputId": "5269b0db-3795-4cfe-b165-f7e0c0638093"
   },
   "outputs": [],
   "source": [
    "print(L[0]) # ធាតុដំបូងគេ\n",
    "print(L[-1])# ធាតុចុងក្រោយគេ"
   ]
  },
  {
   "cell_type": "code",
   "execution_count": null,
   "metadata": {
    "colab": {
     "base_uri": "https://localhost:8080/"
    },
    "id": "tuDLmOFUMefb",
    "outputId": "152f23bd-0b5c-4816-ae45-87115f9d948c"
   },
   "outputs": [],
   "source": [
    "len(L)  # ចំនួនធាតុក្នុងបញ្ជី"
   ]
  },
  {
   "cell_type": "markdown",
   "metadata": {
    "id": "YCYR_LTWM7P_"
   },
   "source": [
    "អ្នកអាចហៅធាតុក្នុងបញ្ជីជាមួយនឹងលេខរៀងរបស់វាក្នុងបញ្ជីដោយប្រើ enumerate "
   ]
  },
  {
   "cell_type": "code",
   "execution_count": null,
   "metadata": {
    "colab": {
     "base_uri": "https://localhost:8080/"
    },
    "id": "4WtGumpsMzfN",
    "outputId": "eeee0f21-6425-4338-ca2c-14e93abd912c"
   },
   "outputs": [],
   "source": [
    "for idx,x in enumerate(L):\n",
    "  print(\"L[\",idx,\"]=\",x)"
   ]
  },
  {
   "cell_type": "markdown",
   "metadata": {
    "id": "DFfXGq1gNRLw"
   },
   "source": [
    "រៀបលំដាប់ធាតុក្នុងបញ្ជីដោយ sorted"
   ]
  },
  {
   "cell_type": "code",
   "execution_count": null,
   "metadata": {
    "colab": {
     "base_uri": "https://localhost:8080/"
    },
    "id": "-ZyjeankNJmG",
    "outputId": "79ce8b43-8e6c-4f55-f7a9-53df9b595e1b"
   },
   "outputs": [],
   "source": [
    "li = [2,5,3,13,11,7]\n",
    "print(li)\n",
    "li_sorted = sorted(li)\n",
    "print(li_sorted)\n",
    "li_sorted_reversed = sorted(li,reverse=True)\n",
    "print(li_sorted_reversed)"
   ]
  },
  {
   "cell_type": "markdown",
   "metadata": {
    "id": "mOoP7U-8NyOz"
   },
   "source": [
    "ប្រតិបត្តិការនានាលើបញ្ជី(list)"
   ]
  },
  {
   "cell_type": "code",
   "execution_count": null,
   "metadata": {
    "colab": {
     "base_uri": "https://localhost:8080/"
    },
    "id": "uriXGbeZNklF",
    "outputId": "4f533e42-3462-4497-f43e-7bc1008439c5"
   },
   "outputs": [],
   "source": [
    "days = ['Mon','Tue','Wed','Thu','Fri']\n",
    "print(days)\n",
    "days.append('Jan')  #បន្ថែមធាតុទៅក្នុងបញ្ជី\n",
    "days.append('Sat')\n",
    "days.append('Sun')\n",
    "print(days)\n",
    "days.remove('Jan')  #លុបធាតុចេញពីបញ្ជី\n",
    "print(days)"
   ]
  },
  {
   "cell_type": "code",
   "execution_count": null,
   "metadata": {
    "colab": {
     "base_uri": "https://localhost:8080/"
    },
    "id": "4AcWdq_nOET1",
    "outputId": "9eb457c6-1403-467b-f154-f2da6f9fd4a7"
   },
   "outputs": [],
   "source": [
    "sq = [i ** 2 for i in range(10)]  #ប្រកាសបញ្ជីដោយសំណេរបិទ\n",
    "sq"
   ]
  },
  {
   "cell_type": "code",
   "execution_count": null,
   "metadata": {
    "colab": {
     "base_uri": "https://localhost:8080/"
    },
    "id": "aNvlHkNyOg9r",
    "outputId": "0296c45c-7abd-49d5-aa01-1d1cb3f249ee"
   },
   "outputs": [],
   "source": [
    "M = [[i*j for i in range(1,10)] for j in range(1,10)]\n",
    "M"
   ]
  },
  {
   "cell_type": "code",
   "execution_count": null,
   "metadata": {
    "colab": {
     "base_uri": "https://localhost:8080/"
    },
    "id": "fma1g6SlOv2S",
    "outputId": "a06d0ef9-add9-4414-9137-a63261e65a0b"
   },
   "outputs": [],
   "source": [
    "M[4-1][7-1]"
   ]
  },
  {
   "cell_type": "code",
   "execution_count": null,
   "metadata": {
    "id": "CHQiMHPWO-ME"
   },
   "outputs": [],
   "source": []
  },
  {
   "cell_type": "markdown",
   "metadata": {
    "id": "FVwrr0_mPLwS"
   },
   "source": [
    "## dictionary"
   ]
  },
  {
   "cell_type": "markdown",
   "metadata": {
    "id": "ArZC4lkIPV_l"
   },
   "source": [
    "dictionary ជាទម្រង់នៃការបង្ហាញទិន្នន័យមួយប្រភេទដោយភ្ជាប់ទំនាក់ទំនងមួយទល់មួយនៃobjectមួយ(key)និងobjectមួយទៀត(value)"
   ]
  },
  {
   "cell_type": "code",
   "execution_count": null,
   "metadata": {
    "colab": {
     "base_uri": "https://localhost:8080/"
    },
    "id": "AlFuCh8YPUZg",
    "outputId": "789cd830-0bce-43c9-b8dc-869f4e70bc1b"
   },
   "outputs": [],
   "source": [
    "P = {'ភ្នំពេញ':'PhnomPenh',\n",
    "     'តាកែវ':'Takeo',\n",
    "     'សៀមរាប':'SiemReap',\n",
    "    'មណ្ឌលគិរី':'Mondulkiri'}\n",
    "\n",
    "# ឬ \n",
    "#P = dict(ភ្នំពេញ='PhnomPenh',តាកែវ='Takeo',សៀមរាប='SiemReap',មណ្ឌលគិរី='Mondulkiri')\n",
    "P"
   ]
  },
  {
   "cell_type": "code",
   "execution_count": null,
   "metadata": {
    "colab": {
     "base_uri": "https://localhost:8080/"
    },
    "id": "1y2MvoRUP8w7",
    "outputId": "f51fbf68-8f67-4bc1-d583-0c84324f1c29"
   },
   "outputs": [],
   "source": [
    "P['តាកែវ']"
   ]
  },
  {
   "cell_type": "code",
   "execution_count": null,
   "metadata": {
    "colab": {
     "base_uri": "https://localhost:8080/"
    },
    "id": "PhdE4YgBQCfk",
    "outputId": "451da151-b708-496f-bffc-23d32d20dfaa"
   },
   "outputs": [],
   "source": [
    "len(P) #ចំនួនធាតុក្នុងdictionary"
   ]
  },
  {
   "cell_type": "code",
   "execution_count": null,
   "metadata": {
    "colab": {
     "base_uri": "https://localhost:8080/"
    },
    "id": "j3KMdpgmQEHw",
    "outputId": "cb7e0e36-0b82-4266-8289-6927eafa38c3"
   },
   "outputs": [],
   "source": [
    "for kh, en in P.items():\n",
    "    print(kh, en)"
   ]
  },
  {
   "cell_type": "markdown",
   "metadata": {
    "id": "XI1tZcloQYcW"
   },
   "source": [
    "## សំណុំ Set "
   ]
  },
  {
   "cell_type": "markdown",
   "metadata": {
    "id": "gMP-g6DkRDky"
   },
   "source": [
    "set ជាទម្រង់នៃការបង្ហាញទិន្នន័យមួយប្រភេទដោយប្រមូលផ្តុំធាតុច្រើននិងមិនមានធាតុជាន់គ្នា"
   ]
  },
  {
   "cell_type": "code",
   "execution_count": null,
   "metadata": {
    "colab": {
     "base_uri": "https://localhost:8080/"
    },
    "id": "zBcq_2FlQNoY",
    "outputId": "3118e532-f1fa-40e7-fadd-72875f94dc2f"
   },
   "outputs": [],
   "source": [
    "S = {'កែប','កំពត','កោះកុង','ព្រះសីហនុ'}\n",
    "S"
   ]
  },
  {
   "cell_type": "code",
   "execution_count": null,
   "metadata": {
    "colab": {
     "base_uri": "https://localhost:8080/"
    },
    "id": "uA1_WxhXRbPK",
    "outputId": "75f95433-652b-4cde-da95-df142786b531"
   },
   "outputs": [],
   "source": [
    "type(S)"
   ]
  },
  {
   "cell_type": "code",
   "execution_count": null,
   "metadata": {
    "colab": {
     "base_uri": "https://localhost:8080/"
    },
    "id": "LISKA58TReBk",
    "outputId": "c5557eeb-3637-40a1-f8b2-a2e5b4133522"
   },
   "outputs": [],
   "source": [
    "len(S)"
   ]
  },
  {
   "cell_type": "code",
   "execution_count": null,
   "metadata": {
    "colab": {
     "base_uri": "https://localhost:8080/"
    },
    "id": "ULRNJU9uRe5N",
    "outputId": "4ae8cb91-62d6-4a05-b5ee-6e6f36a1087d"
   },
   "outputs": [],
   "source": [
    "'កោះកុង' in S ,  'ប៉ៃលិន' in S"
   ]
  },
  {
   "cell_type": "code",
   "execution_count": null,
   "metadata": {
    "colab": {
     "base_uri": "https://localhost:8080/"
    },
    "id": "66-UOWNJRibR",
    "outputId": "491e1d12-d1f3-4e3b-ba1d-1c4547783022"
   },
   "outputs": [],
   "source": [
    "S.add('តាកែវ'), S.add('កណ្តាល')\n",
    "S"
   ]
  },
  {
   "cell_type": "code",
   "execution_count": null,
   "metadata": {
    "colab": {
     "base_uri": "https://localhost:8080/"
    },
    "id": "0l0_MggqRxv6",
    "outputId": "1b5d64c0-b97d-4862-a45c-ca470df0d9a0"
   },
   "outputs": [],
   "source": [
    "print('កោះកុង' in S)\n",
    "S.remove('កោះកុង')\n",
    "print('កោះកុង' in S)"
   ]
  },
  {
   "cell_type": "code",
   "execution_count": null,
   "metadata": {
    "colab": {
     "base_uri": "https://localhost:8080/"
    },
    "id": "Jxp_ImjMR1Il",
    "outputId": "2f73cdd0-f2e0-4e54-dcf3-72fffd4b80f0"
   },
   "outputs": [],
   "source": [
    "M = {i+j for j in range(5) for i in range(5)}\n",
    "print(M)"
   ]
  },
  {
   "cell_type": "code",
   "execution_count": null,
   "metadata": {
    "colab": {
     "base_uri": "https://localhost:8080/"
    },
    "id": "4qRCG4tmSL-a",
    "outputId": "edf7b6fe-7030-4986-f3a1-1db25f95538b"
   },
   "outputs": [],
   "source": [
    "N = set(range(1, 20))\n",
    "A = {i for i in N if i % 2 == 0}\n",
    "B = {i for i in N if i % 3 == 0}\n",
    "print(\"A:\",A)\n",
    "print(\"B:\",B)"
   ]
  },
  {
   "cell_type": "code",
   "execution_count": null,
   "metadata": {
    "colab": {
     "base_uri": "https://localhost:8080/"
    },
    "id": "2VEQI3tnSUZ4",
    "outputId": "0a46c160-97db-4d8e-96b3-265e5b7ce80b"
   },
   "outputs": [],
   "source": [
    "A&B #ប្រសព្វនៃសំណុំA , B"
   ]
  },
  {
   "cell_type": "code",
   "execution_count": null,
   "metadata": {
    "colab": {
     "base_uri": "https://localhost:8080/"
    },
    "id": "M5-FHe53SZpQ",
    "outputId": "86f5d3e0-4fa1-4d7f-ec8a-d39d241d3f7a"
   },
   "outputs": [],
   "source": [
    "A|B #ប្រជុំនៃសំណុំA,B"
   ]
  },
  {
   "cell_type": "markdown",
   "metadata": {
    "id": "vvngXMstSrqm"
   },
   "source": [
    "## វ៉ិចទ័រ NumPy ① "
   ]
  },
  {
   "cell_type": "code",
   "execution_count": null,
   "metadata": {
    "id": "rGBIIxQIS1cJ"
   },
   "outputs": [],
   "source": [
    "import numpy as np"
   ]
  },
  {
   "cell_type": "markdown",
   "metadata": {
    "id": "6su9S2H1SzBe"
   },
   "source": [
    "អ្នកអាចប្រើប្រាស់វ៉ិចទ័រជាមួយ**NumPy**ដោយ `np.array`"
   ]
  },
  {
   "cell_type": "code",
   "execution_count": null,
   "metadata": {
    "colab": {
     "base_uri": "https://localhost:8080/"
    },
    "id": "CuMIJNOWSyXr",
    "outputId": "1701410c-2226-4f7f-a707-b1bfef12ec72"
   },
   "outputs": [],
   "source": [
    "x = np.array([1.0,5.0,-3.0])\n",
    "x"
   ]
  },
  {
   "cell_type": "code",
   "execution_count": null,
   "metadata": {
    "colab": {
     "base_uri": "https://localhost:8080/"
    },
    "id": "SZZXPkUsSbEW",
    "outputId": "421b285b-3a8d-4c6c-8a6f-dfe10712c7ff"
   },
   "outputs": [],
   "source": [
    "type(x)"
   ]
  },
  {
   "cell_type": "code",
   "execution_count": null,
   "metadata": {
    "colab": {
     "base_uri": "https://localhost:8080/"
    },
    "id": "gpotmaepTIPk",
    "outputId": "e92aab6b-7c49-4adf-8a9f-c3101e626907"
   },
   "outputs": [],
   "source": [
    "x.ndim #វិមាត្រនៃវ៉ិចទ័រ (ចំនួនអ័ក្ស)"
   ]
  },
  {
   "cell_type": "code",
   "execution_count": null,
   "metadata": {
    "colab": {
     "base_uri": "https://localhost:8080/"
    },
    "id": "reQqw_MXTLO6",
    "outputId": "6b73a7ed-baf6-49cc-a049-d87221ff2a2f"
   },
   "outputs": [],
   "source": [
    "x.shape #ចំនួនធាតុ(កំប៉ូសង់ក្នុងវ៉ិចទ័រ)"
   ]
  },
  {
   "cell_type": "code",
   "execution_count": null,
   "metadata": {
    "colab": {
     "base_uri": "https://localhost:8080/"
    },
    "id": "K_UWvKqyTU-m",
    "outputId": "acc4184d-9640-4a90-e95e-8ee6d55965e7"
   },
   "outputs": [],
   "source": [
    "print(x[0])\n",
    "print(x[0:2])"
   ]
  },
  {
   "cell_type": "markdown",
   "metadata": {
    "id": "Ptsi0Z6cTl8E"
   },
   "source": [
    "ប្រមាណវិធីលើវ៉ិចទ័រ"
   ]
  },
  {
   "cell_type": "code",
   "execution_count": null,
   "metadata": {
    "id": "GxcrbeGyTeLu"
   },
   "outputs": [],
   "source": [
    "a = np.array([1,2,3,4])\n",
    "b = np.array([-1,3,-2,0])"
   ]
  },
  {
   "cell_type": "code",
   "execution_count": null,
   "metadata": {
    "colab": {
     "base_uri": "https://localhost:8080/"
    },
    "id": "jF1Ao7vfTsVU",
    "outputId": "1f1f12fa-7062-4ead-945d-2f6bc0b8a775"
   },
   "outputs": [],
   "source": [
    "a+b"
   ]
  },
  {
   "cell_type": "code",
   "execution_count": null,
   "metadata": {
    "colab": {
     "base_uri": "https://localhost:8080/"
    },
    "id": "8pX42JuKTs5p",
    "outputId": "c07ecfa6-42ca-45f4-cb59-550fb812c58a"
   },
   "outputs": [],
   "source": [
    "a-b"
   ]
  },
  {
   "cell_type": "code",
   "execution_count": null,
   "metadata": {
    "colab": {
     "base_uri": "https://localhost:8080/"
    },
    "id": "4_6X5R9FTuBO",
    "outputId": "48189153-f1d5-49c3-cfe3-a1079ceed17b"
   },
   "outputs": [],
   "source": [
    "-1 * a"
   ]
  },
  {
   "cell_type": "code",
   "execution_count": null,
   "metadata": {
    "colab": {
     "base_uri": "https://localhost:8080/"
    },
    "id": "50gr8ub8TwTV",
    "outputId": "cc7cf90b-f9cb-4187-ac92-4e6b4e4581b4"
   },
   "outputs": [],
   "source": [
    "a*b  #ផលគុណរវាងកំប៉ូសង់"
   ]
  },
  {
   "cell_type": "code",
   "execution_count": null,
   "metadata": {
    "colab": {
     "base_uri": "https://localhost:8080/"
    },
    "id": "3r4nr4QNT1Jc",
    "outputId": "861fd1a6-fc89-4634-b8eb-d859a2da22fa"
   },
   "outputs": [],
   "source": [
    "np.dot(a,b) #ផលគុណស្កាលែ"
   ]
  },
  {
   "cell_type": "code",
   "execution_count": null,
   "metadata": {
    "colab": {
     "base_uri": "https://localhost:8080/"
    },
    "id": "325GzYmgT7So",
    "outputId": "8b6ada24-f84a-4d3e-c2bd-8012ef562c9e"
   },
   "outputs": [],
   "source": [
    "a@b #ផលគុណស្កាលែ (Python3.5+)"
   ]
  },
  {
   "cell_type": "code",
   "execution_count": null,
   "metadata": {
    "colab": {
     "base_uri": "https://localhost:8080/"
    },
    "id": "UJvwb_FOUAVQ",
    "outputId": "d3979ae1-c520-4372-bd86-1970a47f5775"
   },
   "outputs": [],
   "source": [
    "np.linspace(0, 360, 5) #From 0 to 360 equally seperated into 5 elements"
   ]
  },
  {
   "cell_type": "code",
   "execution_count": null,
   "metadata": {
    "colab": {
     "base_uri": "https://localhost:8080/"
    },
    "id": "-xhXWKr0USN5",
    "outputId": "188f0f32-f5b0-4a80-9afa-e40a1e406acf"
   },
   "outputs": [],
   "source": [
    "np.random.rand(4) # random number\n"
   ]
  },
  {
   "cell_type": "code",
   "execution_count": null,
   "metadata": {
    "colab": {
     "base_uri": "https://localhost:8080/"
    },
    "id": "At0Ks3v_UWLF",
    "outputId": "51a71111-4cfd-494d-8d25-a1fe19165d98"
   },
   "outputs": [],
   "source": [
    "np.sum(a) #ផលបូកគ្រប់ធាតុនៃវ៉ិចទ័រa"
   ]
  },
  {
   "cell_type": "code",
   "execution_count": null,
   "metadata": {
    "colab": {
     "base_uri": "https://localhost:8080/"
    },
    "id": "92_UIaV3UckR",
    "outputId": "feb7772c-38ec-45fa-fa09-86085819df1a"
   },
   "outputs": [],
   "source": [
    "np.prod(a) #ផលគុណគ្រប់ធាតុនៃវ៉ិចទ័រa"
   ]
  },
  {
   "cell_type": "code",
   "execution_count": null,
   "metadata": {
    "colab": {
     "base_uri": "https://localhost:8080/"
    },
    "id": "T1Ns5ooYUl8N",
    "outputId": "e3d20337-b685-4b55-95a5-a554f7a3bb3e"
   },
   "outputs": [],
   "source": [
    "np.mean(a+b) #តម្លៃមធ្យមនៃគ្រប់ធាតុក្នុង​a+b"
   ]
  },
  {
   "cell_type": "code",
   "execution_count": null,
   "metadata": {
    "colab": {
     "base_uri": "https://localhost:8080/"
    },
    "id": "7OZoxpbVUvpf",
    "outputId": "ec047635-a52a-4c81-d551-1532950bb5bf"
   },
   "outputs": [],
   "source": [
    "np.std(a) #តម្លៃនៃគម្លាតស្តង់ដានៃគ្រប់ធាតុក្នុងa"
   ]
  },
  {
   "cell_type": "code",
   "execution_count": null,
   "metadata": {
    "colab": {
     "base_uri": "https://localhost:8080/"
    },
    "id": "C2OC-gaFU8Pk",
    "outputId": "c2b845d5-f359-4f28-8ac3-1921f3d138be"
   },
   "outputs": [],
   "source": [
    "print(b)\n",
    "print(\"Maximum value = \",np.max(b))\n",
    "print(\"Maximum value at b[\",np.argmax(b),\"]\")"
   ]
  },
  {
   "cell_type": "code",
   "execution_count": null,
   "metadata": {
    "colab": {
     "base_uri": "https://localhost:8080/"
    },
    "id": "vaDH5C3EU-W7",
    "outputId": "d1844619-154c-4cb7-97d4-34745ab84148"
   },
   "outputs": [],
   "source": [
    "print(b)\n",
    "print(np.linalg.norm(b, ord=2))  # ប្រវែងវ៉ិចទ័រ L2ណម"
   ]
  },
  {
   "cell_type": "code",
   "execution_count": null,
   "metadata": {
    "colab": {
     "base_uri": "https://localhost:8080/"
    },
    "id": "T4fG27XvVaVV",
    "outputId": "1476b2bd-4c7b-4019-be8c-22b791f32119"
   },
   "outputs": [],
   "source": [
    "np.linalg.norm(b, ord=1)  #  L1ណម ផលបូកតម្លៃដាច់ខាតនៃគ្រប់ធាតុ"
   ]
  },
  {
   "cell_type": "markdown",
   "metadata": {
    "id": "HfYnDrAJVtZT"
   },
   "source": [
    "## Matrix and Tensor NumPy②"
   ]
  },
  {
   "cell_type": "code",
   "execution_count": null,
   "metadata": {
    "colab": {
     "base_uri": "https://localhost:8080/"
    },
    "id": "LSoZkv4jVhwD",
    "outputId": "62a06b96-b0fb-4e15-d8c3-6cb5a807921e"
   },
   "outputs": [],
   "source": [
    "x = np.array([\n",
    "    [1, 2, 3, 4],\n",
    "    [11,22,33, 44],\n",
    "    [-1, -2, -3, -4]\n",
    "])\n",
    "x"
   ]
  },
  {
   "cell_type": "code",
   "execution_count": null,
   "metadata": {
    "colab": {
     "base_uri": "https://localhost:8080/"
    },
    "id": "pHfkWhl8Wfzr",
    "outputId": "ed744620-56b0-40ab-aa7c-9da7fb2a95a8"
   },
   "outputs": [],
   "source": [
    "type(x)"
   ]
  },
  {
   "cell_type": "code",
   "execution_count": null,
   "metadata": {
    "colab": {
     "base_uri": "https://localhost:8080/"
    },
    "id": "gAF940shWhh3",
    "outputId": "f4956348-d285-4df8-c083-9a3cd7dca2dd"
   },
   "outputs": [],
   "source": [
    "x.ndim"
   ]
  },
  {
   "cell_type": "code",
   "execution_count": null,
   "metadata": {
    "colab": {
     "base_uri": "https://localhost:8080/"
    },
    "id": "r_ong7yOWhmx",
    "outputId": "1baa6998-9ed4-470c-ad6d-7f8df9dc7534"
   },
   "outputs": [],
   "source": [
    "x.shape"
   ]
  },
  {
   "cell_type": "code",
   "execution_count": null,
   "metadata": {
    "colab": {
     "base_uri": "https://localhost:8080/"
    },
    "id": "Tloeyu_zWhpq",
    "outputId": "8fd06ca0-e4ed-48a0-ffdf-058d1736c874"
   },
   "outputs": [],
   "source": [
    "x.size"
   ]
  },
  {
   "cell_type": "code",
   "execution_count": null,
   "metadata": {
    "colab": {
     "base_uri": "https://localhost:8080/"
    },
    "id": "2JvDsvsuWmlj",
    "outputId": "4f23b8fb-3dcb-4339-e18d-217250f51550"
   },
   "outputs": [],
   "source": [
    "print(x[2][3])\n",
    "print(x[1,3])"
   ]
  },
  {
   "cell_type": "code",
   "execution_count": null,
   "metadata": {
    "id": "biPbLLl5Wmob"
   },
   "outputs": [],
   "source": [
    "A = np.array([\n",
    "    [1, 0, 3],\n",
    "    [-1, 1, 2],\n",
    "], dtype='float')\n",
    "B = np.array([\n",
    "    [1, 3, 4],\n",
    "    [2, 1, 5],\n",
    "], dtype='float')"
   ]
  },
  {
   "cell_type": "code",
   "execution_count": null,
   "metadata": {
    "colab": {
     "base_uri": "https://localhost:8080/"
    },
    "id": "yFwcwC3_WvPk",
    "outputId": "1e8ecc1e-5108-4a5f-ea57-f6ef6ecf3993"
   },
   "outputs": [],
   "source": [
    "A+B"
   ]
  },
  {
   "cell_type": "code",
   "execution_count": null,
   "metadata": {
    "colab": {
     "base_uri": "https://localhost:8080/"
    },
    "id": "uysS0_pEWvSV",
    "outputId": "46ea6f36-4401-4b39-bfa6-b33de3015243"
   },
   "outputs": [],
   "source": [
    "A-B"
   ]
  },
  {
   "cell_type": "code",
   "execution_count": null,
   "metadata": {
    "colab": {
     "base_uri": "https://localhost:8080/"
    },
    "id": "UnGFN4xjW7RG",
    "outputId": "cd3f8bac-5c48-46fa-f766-5f9a198c3083"
   },
   "outputs": [],
   "source": [
    "A*B #ផលគុណរវាងធាតុនិងធាតុ"
   ]
  },
  {
   "cell_type": "code",
   "execution_count": null,
   "metadata": {
    "colab": {
     "base_uri": "https://localhost:8080/"
    },
    "id": "M7DXU7q3XCwp",
    "outputId": "29812d98-6432-42cf-a4b5-ec2403d4a6d8"
   },
   "outputs": [],
   "source": [
    "print(A)\n",
    "print(A.T) #Transpose"
   ]
  },
  {
   "cell_type": "code",
   "execution_count": null,
   "metadata": {
    "colab": {
     "base_uri": "https://localhost:8080/"
    },
    "id": "7hQ7oTb_W7UE",
    "outputId": "10158ba8-d5b5-47c7-d897-cdc3d5f9849b"
   },
   "outputs": [],
   "source": [
    "np.dot(A,B.T)  # AC (C=B.T)\n"
   ]
  },
  {
   "cell_type": "code",
   "execution_count": null,
   "metadata": {
    "colab": {
     "base_uri": "https://localhost:8080/"
    },
    "id": "FL_x_mczXIj2",
    "outputId": "be68b8ea-a8e2-4840-cf56-1942bb5ddfd6"
   },
   "outputs": [],
   "source": [
    "# Tensor \n",
    "\n",
    "x = np.array([\n",
    "    [\n",
    "        [1, 2, 3],\n",
    "        [4, 5, 6]\n",
    "    ],\n",
    "    [\n",
    "        [9, 8, 7],\n",
    "        [6, 5, 4]\n",
    "    ],\n",
    "])\n",
    "\n",
    "x"
   ]
  },
  {
   "cell_type": "code",
   "execution_count": null,
   "metadata": {
    "colab": {
     "base_uri": "https://localhost:8080/"
    },
    "id": "0jxwckv2XInH",
    "outputId": "5be9644a-e275-4c25-d43e-2534232e89ce"
   },
   "outputs": [],
   "source": [
    "x.shape"
   ]
  },
  {
   "cell_type": "markdown",
   "metadata": {
    "id": "xiygg9AfXmi5"
   },
   "source": [
    "## សង់ក្រាប"
   ]
  },
  {
   "cell_type": "code",
   "execution_count": null,
   "metadata": {
    "id": "wgjhhTA2Xg6v"
   },
   "outputs": [],
   "source": [
    "import matplotlib\n",
    "import matplotlib.pyplot as plt\n",
    "import numpy as np"
   ]
  },
  {
   "cell_type": "code",
   "execution_count": null,
   "metadata": {
    "colab": {
     "base_uri": "https://localhost:8080/"
    },
    "id": "AdbJFVRhYdSz",
    "outputId": "374e3de9-2b6f-4481-f70f-174d7ba7d0ae"
   },
   "outputs": [],
   "source": [
    "x = [1,2,3,4,5]\n",
    "y = [-12,4,-2,-4,6]\n",
    "z = [-10,5,-1,-9,5]\n",
    "plt.plot(x,y)\n",
    "plt.show()"
   ]
  },
  {
   "cell_type": "code",
   "execution_count": null,
   "metadata": {
    "colab": {
     "base_uri": "https://localhost:8080/"
    },
    "id": "d7ZO3zIiYdby",
    "outputId": "c5903934-bc75-48c5-9e28-cb6f8e492bd2"
   },
   "outputs": [],
   "source": [
    "plt.plot(x,y,'ro-')\n",
    "plt.plot(x,z,'gx-')\n",
    "plt.show()"
   ]
  },
  {
   "cell_type": "code",
   "execution_count": 14,
   "metadata": {
    "colab": {
     "base_uri": "https://localhost:8080/"
    },
    "id": "-B-lVBp9ZET9",
    "outputId": "1ac0dc40-0577-4c1e-b8ff-a4f32342015d"
   },
   "outputs": [
    {
     "ename": "NameError",
     "evalue": "name 'plt' is not defined",
     "output_type": "error",
     "traceback": [
      "\u001b[1;31m---------------------------------------------------------------------------\u001b[0m",
      "\u001b[1;31mNameError\u001b[0m                                 Traceback (most recent call last)",
      "\u001b[1;32m~\\AppData\\Local\\Temp/ipykernel_12440/3861872039.py\u001b[0m in \u001b[0;36m<module>\u001b[1;34m\u001b[0m\n\u001b[1;32m----> 1\u001b[1;33m \u001b[0mfig\u001b[0m\u001b[1;33m,\u001b[0m \u001b[1;33m(\u001b[0m\u001b[0max1\u001b[0m\u001b[1;33m,\u001b[0m \u001b[0max2\u001b[0m\u001b[1;33m)\u001b[0m \u001b[1;33m=\u001b[0m \u001b[0mplt\u001b[0m\u001b[1;33m.\u001b[0m\u001b[0msubplots\u001b[0m\u001b[1;33m(\u001b[0m\u001b[1;36m2\u001b[0m\u001b[1;33m,\u001b[0m \u001b[1;36m1\u001b[0m\u001b[1;33m)\u001b[0m\u001b[1;33m\u001b[0m\u001b[1;33m\u001b[0m\u001b[0m\n\u001b[0m\u001b[0;32m      2\u001b[0m \u001b[0max1\u001b[0m\u001b[1;33m.\u001b[0m\u001b[0mplot\u001b[0m\u001b[1;33m(\u001b[0m\u001b[0mx\u001b[0m\u001b[1;33m,\u001b[0m \u001b[0my\u001b[0m\u001b[1;33m,\u001b[0m \u001b[1;34m'ro-'\u001b[0m\u001b[1;33m)\u001b[0m\u001b[1;33m\u001b[0m\u001b[1;33m\u001b[0m\u001b[0m\n\u001b[0;32m      3\u001b[0m \u001b[0max2\u001b[0m\u001b[1;33m.\u001b[0m\u001b[0mplot\u001b[0m\u001b[1;33m(\u001b[0m\u001b[0mx\u001b[0m\u001b[1;33m,\u001b[0m \u001b[0mz\u001b[0m\u001b[1;33m,\u001b[0m \u001b[1;34m'gx-'\u001b[0m\u001b[1;33m)\u001b[0m\u001b[1;33m\u001b[0m\u001b[1;33m\u001b[0m\u001b[0m\n\u001b[0;32m      4\u001b[0m \u001b[0mplt\u001b[0m\u001b[1;33m.\u001b[0m\u001b[0mshow\u001b[0m\u001b[1;33m(\u001b[0m\u001b[1;33m)\u001b[0m\u001b[1;33m\u001b[0m\u001b[1;33m\u001b[0m\u001b[0m\n",
      "\u001b[1;31mNameError\u001b[0m: name 'plt' is not defined"
     ]
    }
   ],
   "source": [
    "fig, (ax1, ax2) = plt.subplots(2, 1)\n",
    "ax1.plot(x, y, 'ro-')\n",
    "ax2.plot(x, z, 'gx-')\n",
    "plt.show()"
   ]
  },
  {
   "cell_type": "code",
   "execution_count": null,
   "metadata": {
    "colab": {
     "base_uri": "https://localhost:8080/"
    },
    "id": "YwshOp-IXg-2",
    "outputId": "5e024da6-8f34-4891-982b-2633378826bf"
   },
   "outputs": [],
   "source": [
    "X = np.linspace(-5,8,100)\n",
    "Y = np.sin(X)\n",
    "Z = np.cos(X)\n",
    "plt.plot(X,Y)\n",
    "plt.plot(X,Z)\n",
    "plt.legend(['sinus','cosinus'])\n",
    "plt.show()"
   ]
  },
  {
   "cell_type": "code",
   "execution_count": null,
   "metadata": {
    "colab": {
     "base_uri": "https://localhost:8080/"
    },
    "id": "qpqw0ME8ZMvp",
    "outputId": "8917c58f-bbe2-4ae2-db4c-6b181790011e"
   },
   "outputs": [],
   "source": [
    "fig, (ax1, ax2) = plt.subplots(1, 2)\n",
    "ax1.plot(X, Y, 'r')\n",
    "ax1.set_title(\"Sinus\")\n",
    "ax2.plot(X, Z, 'b')\n",
    "ax2.set_title(\"Cosinus\")\n",
    "ax2.grid()\n",
    "plt.show()"
   ]
  },
  {
   "cell_type": "code",
   "execution_count": null,
   "metadata": {
    "colab": {
     "base_uri": "https://localhost:8080/"
    },
    "id": "CgY6j_XAXhBu",
    "outputId": "f7790b3e-c3cf-4f7f-f8a9-879e62a18467"
   },
   "outputs": [],
   "source": [
    "fig, ax = plt.subplots()\n",
    "ax.bar(x, z)\n",
    "ax.set_title('Bar graph')\n",
    "ax.set_xlabel('x')\n",
    "ax.set_ylabel('z')\n",
    "plt.show()"
   ]
  },
  {
   "cell_type": "code",
   "execution_count": null,
   "metadata": {
    "colab": {
     "base_uri": "https://localhost:8080/"
    },
    "id": "5uEoFvZ8Z_8x",
    "outputId": "fb4603eb-8da7-41ed-c683-0495f0839388"
   },
   "outputs": [],
   "source": [
    "import matplotlib.animation\n",
    "from IPython.display import HTML\n",
    "\n",
    "frames = (np.random.rand(200, 2) - 0.5) * 2\n",
    "\n",
    "fig, ax = plt.subplots()\n",
    "ax.set_aspect('equal')\n",
    "ax.set_xlim(-1, 1)\n",
    "ax.set_ylim(-1, 1)\n",
    "\n",
    "def init():\n",
    "    circle = matplotlib.patches.Wedge((0, 0), 1, 0, 360, alpha=0.2, color='r')\n",
    "    return [ax.add_patch(circle),]\n",
    "\n",
    "def update(frame):\n",
    "    x, y = frame\n",
    "    c = 'r' if x ** 2 + y ** 2 < 1 else 'b'\n",
    "    return [ax.scatter(x, y, marker='.', color=c),]\n",
    "\n",
    "ani = matplotlib.animation.FuncAnimation(fig, update, frames, init, interval=10, blit=True)\n",
    "plt.close(fig)\n",
    "HTML(ani.to_jshtml())"
   ]
  },
  {
   "cell_type": "markdown",
   "metadata": {
    "id": "vRpGvQF4V_NZ"
   },
   "source": [
    "# ការកំណត់បញ្ហាក្នុងMachine Learning"
   ]
  },
  {
   "cell_type": "markdown",
   "metadata": {
    "id": "VZ38dkZlWI-U"
   },
   "source": [
    "```កំពុងរៀបចំ```"
   ]
  },
  {
   "cell_type": "code",
   "execution_count": null,
   "metadata": {
    "id": "x-IcIdYy-1gP"
   },
   "outputs": [],
   "source": [
    "import numpy as np\n",
    "import matplotlib.pyplot as plt\n",
    "import pandas as pd"
   ]
  },
  {
   "cell_type": "code",
   "execution_count": null,
   "metadata": {
    "id": "qilQFQx4ipFI"
   },
   "outputs": [],
   "source": []
  },
  {
   "cell_type": "markdown",
   "metadata": {
    "id": "U5cnGhlhWEee"
   },
   "source": [
    "# វិធីសាស្រ្តនានាក្នុង​Machine Learning"
   ]
  },
  {
   "cell_type": "markdown",
   "metadata": {
    "id": "glzJvgUbxjPa"
   },
   "source": [
    "## Regression"
   ]
  },
  {
   "cell_type": "markdown",
   "metadata": {
    "id": "CiQY39VdxRq1"
   },
   "source": [
    "### Linear Regression with Analysis Math solution"
   ]
  },
  {
   "cell_type": "code",
   "execution_count": null,
   "metadata": {
    "id": "PhGg5AC9WHhg"
   },
   "outputs": [],
   "source": [
    "import numpy as np\n",
    "import matplotlib.pyplot as plt"
   ]
  },
  {
   "cell_type": "code",
   "execution_count": null,
   "metadata": {
    "id": "I0MFg1nK0WCz"
   },
   "outputs": [],
   "source": [
    "X = np.array([152,157,160,163,150,147,165,168,170])\n",
    "y = np.array([54.48,55.84,57.20,56.57,53.12,52.21,59.93,61.29,67.92])"
   ]
  },
  {
   "cell_type": "code",
   "execution_count": null,
   "metadata": {
    "colab": {
     "base_uri": "https://localhost:8080/",
     "height": 283
    },
    "id": "Yf-H_1qO0m5T",
    "outputId": "c8db5d0e-412a-4b0f-9c43-3a4325bf9735"
   },
   "outputs": [],
   "source": [
    "plt.scatter(X,y,marker='x')\n",
    "plt.xlim([145,172])\n",
    "plt.ylim([50,70])\n",
    "plt.xlabel('height(cm)')\n",
    "plt.ylabel('mass(kg)')\n",
    "plt.show()"
   ]
  },
  {
   "cell_type": "code",
   "execution_count": null,
   "metadata": {
    "id": "--As7BwJ6PHr"
   },
   "outputs": [],
   "source": [
    "def fit(x,y,k):\n",
    "  X_ = np.zeros((len(x),k+1))\n",
    "  for i in range(k+1):\n",
    "    X_[:,i] = x**i\n",
    "  w = np.linalg.inv(X_.T@X_)@X_.T@y\n",
    "  return w\n",
    "\n",
    "def predict(x,w,k):\n",
    "  X_ = np.zeros((len(x),k+1))\n",
    "  for i in range(k+1):\n",
    "    X_[:,i] = x**i\n",
    "  return X_@w"
   ]
  },
  {
   "cell_type": "code",
   "execution_count": null,
   "metadata": {
    "colab": {
     "base_uri": "https://localhost:8080/"
    },
    "id": "s2v--GRI65VX",
    "outputId": "f66ba262-8b8f-452c-8002-fd740a344241"
   },
   "outputs": [],
   "source": [
    "w = fit(X,y,1)\n",
    "w"
   ]
  },
  {
   "cell_type": "code",
   "execution_count": null,
   "metadata": {
    "colab": {
     "base_uri": "https://localhost:8080/",
     "height": 300
    },
    "id": "bxUJIhrT0ucM",
    "outputId": "551ae84f-77c1-4cfe-e73c-943f792efac7"
   },
   "outputs": [],
   "source": [
    "cov_YY = np.cov(predict(X,w,1),y)\n",
    "R2 = cov_YY[0,0]/cov_YY[1,1]\n",
    "print(\"R2=%.3f\"%(R2))\n",
    "xa = np.linspace(145,172,50)\n",
    "plt.scatter(X,y,marker='x')\n",
    "plt.plot(xa,predict(xa,w,1),'r-')\n",
    "plt.xlim([145,172])\n",
    "plt.ylim([50,70])\n",
    "plt.xlabel('height(cm)')\n",
    "plt.ylabel('mass(kg)')\n",
    "y_legend = \"y=\"+str(round(w[0],3))+\"+\"+str(round(w[1],3))+\"x\"\n",
    "plt.legend([y_legend,\"observed-data\"])\n",
    "plt.show()"
   ]
  },
  {
   "cell_type": "code",
   "execution_count": null,
   "metadata": {
    "colab": {
     "base_uri": "https://localhost:8080/"
    },
    "id": "ZlNHAk2G50OI",
    "outputId": "b8b06008-bc20-4dd9-cf74-804494ed9568"
   },
   "outputs": [],
   "source": [
    "X = np.array([ 0.  ,  0.11,  0.25,  0.29,  0.41,  0.42,  0.43,  0.8 ,  0.81, 1.  ])\n",
    "Y = np.array([ 0.04,  0.75,  1.  ,  0.99,  0.31,  0.52,  0.38, -0.99, -1.05, 0.  ])\n",
    "w = fit(X,Y,3)\n",
    "print(\"w=\",w)"
   ]
  },
  {
   "cell_type": "code",
   "execution_count": null,
   "metadata": {
    "colab": {
     "base_uri": "https://localhost:8080/",
     "height": 296
    },
    "id": "ibmOK6VFNYK9",
    "outputId": "153b939c-e927-45f3-9c93-74324ee3c81b"
   },
   "outputs": [],
   "source": [
    "cov_YY = np.cov(predict(X,w,3),Y)\n",
    "R2 = cov_YY[0,0]/cov_YY[1,1]\n",
    "print(\"R2=%.3f\"%(R2))\n",
    "xa = np.linspace(min(X),max(X),1000)\n",
    "ya = predict(xa,w,3)\n",
    "plt.scatter(X,Y,color='b')\n",
    "plt.plot(xa,ya,'r-')\n",
    "plt.xlabel(\"x\")\n",
    "plt.ylabel(\"y\")\n",
    "plt.grid()\n",
    "y_legend = \"y=\"+str(round(w[0],3))+\"+\"+str(round(w[1],3))+\"x\"+str(round(w[2],3))+\"x^2\"\n",
    "plt.legend([y_legend,\"observed-data\"])\n",
    "plt.show()"
   ]
  },
  {
   "cell_type": "code",
   "execution_count": null,
   "metadata": {
    "colab": {
     "base_uri": "https://localhost:8080/",
     "height": 331
    },
    "id": "88L3CikdNadX",
    "outputId": "f2f6493f-73d3-43aa-c2aa-cb7963f62b6b"
   },
   "outputs": [],
   "source": [
    "X = np.array([ 0.  ,  0.11,  0.25,  0.29,  0.41,  0.42,  0.43,  0.8 ,  0.81, 1.  ])\n",
    "Y = np.array([ 0.04,  0.75,  1.  ,  0.99,  0.31,  0.52,  0.38, -0.99, -1.05, 0.  ])\n",
    "w = fit(X,Y,9)\n",
    "print(\"w=\",w)\n",
    "xa = np.linspace(min(X),max(X),1000)\n",
    "ya = predict(xa,w,9)\n",
    "plt.scatter(X,Y,color='b')\n",
    "plt.plot(xa,ya,'r-')\n",
    "plt.xlabel(\"x\")\n",
    "plt.ylabel(\"y\")\n",
    "plt.grid()\n",
    "#y_legend = \"y=\"+str(round(w[0],3))+\"+\"+str(round(w[1],3))+\"x\"+str(round(w[2],3))+\"x^2\"\n",
    "plt.legend([\"model\",\"observed-data\"])\n",
    "plt.show()"
   ]
  },
  {
   "cell_type": "markdown",
   "metadata": {
    "id": "MtQpmsvzxQGn"
   },
   "source": [
    "### Linear Regression with Gradient Descent and SGD"
   ]
  },
  {
   "cell_type": "code",
   "execution_count": null,
   "metadata": {
    "id": "pOOwnVmhj9B2"
   },
   "outputs": [],
   "source": [
    "import numpy as np"
   ]
  },
  {
   "cell_type": "code",
   "execution_count": null,
   "metadata": {
    "id": "PbKjq0TwUy9v"
   },
   "outputs": [],
   "source": [
    "#X = np.array([1,3,4,7,9,14])\n",
    "#y = np.array([3,7,11,19,29,45])\n",
    "#X = np.array([1, 3, 6, 8])\n",
    "#y = np.array([3, 6, 5, 7])\n",
    "X = np.array([1.52,1.57,1.60,1.63,1.50,1.47,1.65,1.68,1.70])\n",
    "y = np.array([54.48,55.84,57.20,56.57,53.12,52.21,59.93,61.29,67.92])"
   ]
  },
  {
   "cell_type": "code",
   "execution_count": null,
   "metadata": {
    "id": "IpK05knRj71Q"
   },
   "outputs": [],
   "source": [
    "XP = np.vstack([np.ones_like(X), X]).T\n",
    "beta = np.zeros(XP.shape[1])\n",
    "\n",
    "eta = 1e-3\n",
    "for t in range(100000):\n",
    "    y_hat = XP @ beta\n",
    "    beta -= 2 * eta * XP.T @ (y_hat - y)"
   ]
  },
  {
   "cell_type": "code",
   "execution_count": null,
   "metadata": {
    "colab": {
     "base_uri": "https://localhost:8080/"
    },
    "id": "XLcMcaDnkC5J",
    "outputId": "ca359da0-142d-45d9-e1e6-a45daf0635f1"
   },
   "outputs": [],
   "source": [
    "beta"
   ]
  },
  {
   "cell_type": "code",
   "execution_count": null,
   "metadata": {
    "colab": {
     "base_uri": "https://localhost:8080/",
     "height": 295
    },
    "id": "FCIb_Bx7kF68",
    "outputId": "c4ef0db7-05e0-448d-e956-863c595e1655"
   },
   "outputs": [],
   "source": [
    "xa = np.linspace(1.45,1.72,50)\n",
    "plt.scatter(X,y,marker='x')\n",
    "plt.plot(xa,predict(xa,beta,1),'r-')\n",
    "plt.xlabel('height(cm)')\n",
    "plt.ylabel('mass(kg)')\n",
    "y_legend = \"y=\"+str(round(beta[0],3))+\"+\"+str(round(beta[1],3))+\"x\"\n",
    "plt.legend([y_legend,\"observed-data\"])\n",
    "plt.title(\"Learning with Gradient Descent\")\n",
    "plt.show()"
   ]
  },
  {
   "cell_type": "code",
   "execution_count": null,
   "metadata": {
    "colab": {
     "base_uri": "https://localhost:8080/"
    },
    "id": "UpzNZlcBt4XH",
    "outputId": "6e5a0737-4c72-4836-8c3f-1c90ec729edf"
   },
   "outputs": [],
   "source": [
    "import random\n",
    "import numpy as np\n",
    "\n",
    "X = np.array([1.52,1.57,1.60,1.63,1.50,1.47,1.65,1.68,1.70])\n",
    "y = np.array([54.48,55.84,57.20,56.57,53.12,52.21,59.93,61.29,67.92])\n",
    "\n",
    "beta = np.zeros(2)\n",
    "d_index = list(range(len(X)))\n",
    "\n",
    "eta = 1e-3\n",
    "for t in range(100000):\n",
    "  random.shuffle(d_index)\n",
    "  for i in d_index :\n",
    "    XP = np.vstack([np.ones_like(X[i]), X[i]]).T\n",
    "    y_hat = XP @ beta\n",
    "    beta -= 2 * eta * XP.T @ (y_hat - y[i])\n",
    "\n",
    "beta"
   ]
  },
  {
   "cell_type": "code",
   "execution_count": null,
   "metadata": {
    "colab": {
     "base_uri": "https://localhost:8080/",
     "height": 295
    },
    "id": "0remokq5t4bG",
    "outputId": "cec58c72-c982-47cd-da94-78772eb5800f"
   },
   "outputs": [],
   "source": [
    "xa = np.linspace(1.45,1.72,50)\n",
    "plt.scatter(X,y,marker='x')\n",
    "plt.plot(xa,predict(xa,beta,1),'r-')\n",
    "plt.xlabel('height(cm)')\n",
    "plt.ylabel('mass(kg)')\n",
    "y_legend = \"y=\"+str(round(beta[0],3))+\"+\"+str(round(beta[1],3))+\"x\"\n",
    "plt.legend([y_legend,\"observed-data\"])\n",
    "plt.title(\"Learning with Stochastic Gradient Descent\")\n",
    "plt.show()"
   ]
  },
  {
   "cell_type": "markdown",
   "metadata": {
    "id": "TeVD9N7J29Q4"
   },
   "source": [
    "### Regulization"
   ]
  },
  {
   "cell_type": "code",
   "execution_count": null,
   "metadata": {
    "id": "bcC5_9jhF7x9"
   },
   "outputs": [],
   "source": [
    "import numpy as np\n",
    "import matplotlib.pyplot as plt"
   ]
  },
  {
   "cell_type": "code",
   "execution_count": null,
   "metadata": {
    "id": "wzPJzdJCHSeg"
   },
   "outputs": [],
   "source": [
    "def fit(x,y,k):\n",
    "  X_ = np.zeros((len(x),k+1))\n",
    "  for i in range(k+1):\n",
    "    X_[:,i] = x**i\n",
    "  w = np.linalg.inv(X_.T@X_)@X_.T@y\n",
    "  return w\n",
    "\n",
    "def predict(x,w,k):\n",
    "  X_ = np.zeros((len(x),k+1))\n",
    "  for i in range(k+1):\n",
    "    X_[:,i] = x**i\n",
    "  return X_@w"
   ]
  },
  {
   "cell_type": "code",
   "execution_count": null,
   "metadata": {
    "colab": {
     "base_uri": "https://localhost:8080/",
     "height": 279
    },
    "id": "K3BmPfsym5Ef",
    "outputId": "d05e2eb8-05ca-4c39-f340-9f0e42e899d7"
   },
   "outputs": [],
   "source": [
    "# Data: train\n",
    "Xtrain = np.array([0.  ,  0.11,  0.25,  0.29,  0.41,  0.42,  0.43,  0.8 ,  0.81, 1.])\n",
    "Ytrain = np.sin(2*np.pi*Xtrain)+0.02*np.random.randn(len(Xtrain))\n",
    "# Data: test\n",
    "Xtest = np.array([0.654,0.633,0.48,0.564])\n",
    "Ytest = np.sin(2*np.pi*Xtest)+0.02*np.random.randn(len(Xtest))\n",
    "\n",
    "plt.scatter(Xtrain,Ytrain,marker='o')\n",
    "plt.scatter(Xtest,Ytest,marker='x')\n",
    "plt.legend(['training data','test data'])\n",
    "plt.xlabel('X'); plt.ylabel('Y')\n",
    "plt.show()"
   ]
  },
  {
   "cell_type": "code",
   "execution_count": null,
   "metadata": {
    "colab": {
     "base_uri": "https://localhost:8080/",
     "height": 279
    },
    "id": "TIEnRANc0h5t",
    "outputId": "9370df28-ada1-42da-ab6e-bfe42518dc01"
   },
   "outputs": [],
   "source": [
    "colors = ['green','black','blue','purple']\n",
    "degree = [1,2,5,9]\n",
    "w_fit = []\n",
    "R2 = []\n",
    "plt.scatter(Xtrain,Ytrain,marker='o',color='black')\n",
    "plt.scatter(Xtest,Ytest,marker='o',color='red')\n",
    "xa = np.linspace(min(Xtrain)-0.1,max(Xtrain)+0.1,100)\n",
    "for i,d in enumerate(degree):\n",
    "  w = fit(Xtrain,Ytrain,d)\n",
    "  w_fit.append(w)\n",
    "  ya = predict(xa,w,d)\n",
    "  plt.plot(xa,ya,colors[i])\n",
    "  cov_YY = np.cov(predict(Xtrain,w,d)-Ytrain,Ytrain,bias=True)\n",
    "  r2 =1- cov_YY[0,0]/cov_YY[1,1]\n",
    "  R2.append(r2)\n",
    "plt.ylim([-1.6,1.6])\n",
    "plt.grid()\n",
    "plt.legend(['degree='+str(i)+':R2=%.2f'%(r) for i,r in zip(degree,R2)]+['training data','test data'])\n",
    "plt.xlabel('X'); plt.ylabel('Y')\n",
    "plt.show()\n"
   ]
  },
  {
   "cell_type": "code",
   "execution_count": 15,
   "metadata": {
    "id": "KEmgmp6Q9sUA"
   },
   "outputs": [],
   "source": [
    "def ridge_fit(x,y,k,alpha):\n",
    "  X_ = np.zeros((len(x),k+1))\n",
    "  for i in range(k+1):\n",
    "    X_[:,i] = x**i\n",
    "  beta = np.linalg.inv(X_.T@X_+alpha*np.eye(k+1))@X_.T@y\n",
    "  return beta\n",
    "\n",
    "# learning with SGD\n",
    "def ridge_sgd_fit(x,y,k,alpha):\n",
    "  beta = np.zeros(k+1)\n",
    "  d_index = list(range(len(x)))\n",
    "\n",
    "  eta = 1e-4\n",
    "  for t in range(500000):\n",
    "    random.shuffle(d_index)\n",
    "    for i in d_index :\n",
    "      xi = np.zeros(k+1)\n",
    "      for j in range(k+1):\n",
    "        xi[j] = x[i]**j\n",
    "      y_hat = xi.T @ beta\n",
    "      beta = (1-2*alpha*eta/len(x))*beta - 2 * eta * (y_hat - y[i]) * xi\n",
    "  return beta"
   ]
  },
  {
   "cell_type": "code",
   "execution_count": 16,
   "metadata": {
    "colab": {
     "base_uri": "https://localhost:8080/",
     "height": 295
    },
    "id": "JsPf7hBu67_t",
    "outputId": "d646e96b-06e4-46af-d469-3a13def5a5df"
   },
   "outputs": [
    {
     "ename": "NameError",
     "evalue": "name 'plt' is not defined",
     "output_type": "error",
     "traceback": [
      "\u001b[1;31m---------------------------------------------------------------------------\u001b[0m",
      "\u001b[1;31mNameError\u001b[0m                                 Traceback (most recent call last)",
      "\u001b[1;32m~\\AppData\\Local\\Temp/ipykernel_12440/1542892607.py\u001b[0m in \u001b[0;36m<module>\u001b[1;34m\u001b[0m\n\u001b[0;32m      3\u001b[0m \u001b[0mw_fit\u001b[0m \u001b[1;33m=\u001b[0m \u001b[1;33m[\u001b[0m\u001b[1;33m]\u001b[0m\u001b[1;33m\u001b[0m\u001b[1;33m\u001b[0m\u001b[0m\n\u001b[0;32m      4\u001b[0m \u001b[0md\u001b[0m \u001b[1;33m=\u001b[0m \u001b[1;36m9\u001b[0m\u001b[1;33m\u001b[0m\u001b[1;33m\u001b[0m\u001b[0m\n\u001b[1;32m----> 5\u001b[1;33m \u001b[0mplt\u001b[0m\u001b[1;33m.\u001b[0m\u001b[0mscatter\u001b[0m\u001b[1;33m(\u001b[0m\u001b[0mXtrain\u001b[0m\u001b[1;33m,\u001b[0m\u001b[0mYtrain\u001b[0m\u001b[1;33m,\u001b[0m\u001b[0mmarker\u001b[0m\u001b[1;33m=\u001b[0m\u001b[1;34m'o'\u001b[0m\u001b[1;33m,\u001b[0m\u001b[0mcolor\u001b[0m\u001b[1;33m=\u001b[0m\u001b[1;34m'black'\u001b[0m\u001b[1;33m)\u001b[0m\u001b[1;33m\u001b[0m\u001b[1;33m\u001b[0m\u001b[0m\n\u001b[0m\u001b[0;32m      6\u001b[0m \u001b[0mplt\u001b[0m\u001b[1;33m.\u001b[0m\u001b[0mscatter\u001b[0m\u001b[1;33m(\u001b[0m\u001b[0mXtest\u001b[0m\u001b[1;33m,\u001b[0m\u001b[0mYtest\u001b[0m\u001b[1;33m,\u001b[0m\u001b[0mmarker\u001b[0m\u001b[1;33m=\u001b[0m\u001b[1;34m'o'\u001b[0m\u001b[1;33m,\u001b[0m\u001b[0mcolor\u001b[0m\u001b[1;33m=\u001b[0m\u001b[1;34m'red'\u001b[0m\u001b[1;33m)\u001b[0m\u001b[1;33m\u001b[0m\u001b[1;33m\u001b[0m\u001b[0m\n\u001b[0;32m      7\u001b[0m \u001b[1;32mfor\u001b[0m \u001b[0mi\u001b[0m\u001b[1;33m,\u001b[0m\u001b[0malpha\u001b[0m \u001b[1;32min\u001b[0m \u001b[0menumerate\u001b[0m\u001b[1;33m(\u001b[0m\u001b[0malphas\u001b[0m\u001b[1;33m)\u001b[0m\u001b[1;33m:\u001b[0m\u001b[1;33m\u001b[0m\u001b[1;33m\u001b[0m\u001b[0m\n",
      "\u001b[1;31mNameError\u001b[0m: name 'plt' is not defined"
     ]
    }
   ],
   "source": [
    "markers = ['-','-','-.','-.']\n",
    "alphas = [1e-9,1e-3,1e-2,1]\n",
    "w_fit = []\n",
    "d = 9\n",
    "plt.scatter(Xtrain,Ytrain,marker='o',color='black')\n",
    "plt.scatter(Xtest,Ytest,marker='o',color='red')\n",
    "for i,alpha in enumerate(alphas):\n",
    "  w = ridge_fit(Xtrain,Ytrain,d,alpha)\n",
    "  #w = ridge_sgd_fit(Xtrain,Ytrain,d,alpha)\n",
    "  w_fit.append(w)\n",
    "  xa = np.linspace(min(Xtrain)-0.1,max(Xtrain)+0.1,100)\n",
    "  ya = predict(xa,w,d)\n",
    "  plt.plot(xa,ya,markers[i])\n",
    "plt.grid()\n",
    "plt.plot(xa,predict(xa,fit(Xtrain,Ytrain,d),d),'g-.')\n",
    "plt.ylim([-1.6,1.6])\n",
    "plt.legend(['alpha='+str(i) for i in alphas]+['no regulization','training data','test data'])\n",
    "plt.xlabel('X')\n",
    "plt.ylabel('Y')\n",
    "plt.title('Linear Regression Model (Polynomial degree=9)')\n",
    "plt.show()"
   ]
  },
  {
   "cell_type": "code",
   "execution_count": null,
   "metadata": {
    "colab": {
     "base_uri": "https://localhost:8080/",
     "height": 295
    },
    "id": "2_h1NdhsFCFV",
    "outputId": "d30fb02b-e621-4fbf-fe89-39a6bac2445a"
   },
   "outputs": [],
   "source": [
    "markers = ['-','-']\n",
    "alphas = [1e-9]\n",
    "w_fit = []\n",
    "d = 9\n",
    "plt.scatter(Xtrain,Ytrain,marker='o',color='black')\n",
    "plt.scatter(Xtest,Ytest,marker='o',color='red')\n",
    "for i,alpha in enumerate(alphas):\n",
    "  w = ridge_fit(Xtrain,Ytrain,d,alpha)\n",
    "  #w = ridge_sgd_fit(Xtrain,Ytrain,d,alpha)\n",
    "  w_fit.append(w)\n",
    "  xa = np.linspace(min(Xtrain)-0.1,max(Xtrain)+0.1,100)\n",
    "  ya = predict(xa,w,d)\n",
    "  plt.plot(xa,ya,markers[i])\n",
    "plt.grid()\n",
    "plt.plot(xa,predict(xa,fit(Xtrain,Ytrain,d),d),'g-.')\n",
    "plt.ylim([-1.6,1.6])\n",
    "plt.legend(['Ridge Model with alpha='+str(i) for i in alphas]+['no regulization','training data','test data'])\n",
    "plt.xlabel('X')\n",
    "plt.ylabel('Y')\n",
    "plt.title('Linear Regression Model (Polynomial degree=9)')\n",
    "plt.show()"
   ]
  },
  {
   "cell_type": "code",
   "execution_count": null,
   "metadata": {
    "id": "9dBSFtiVhly4"
   },
   "outputs": [],
   "source": []
  },
  {
   "cell_type": "markdown",
   "metadata": {
    "id": "opSrusZghmba"
   },
   "source": [
    "### EXAMPLE of REGRESSION"
   ]
  },
  {
   "cell_type": "markdown",
   "metadata": {
    "id": "Ff4uQbh0jPyz"
   },
   "source": [
    "ម៉ូឌែលសម្រាប់ទស្សន៍ទាយតម្លៃផ្ទះ"
   ]
  },
  {
   "cell_type": "markdown",
   "metadata": {
    "id": "1PRj9avjjY1l"
   },
   "source": [
    "ទាញយកទិន្នន័យ"
   ]
  },
  {
   "cell_type": "code",
   "execution_count": null,
   "metadata": {
    "colab": {
     "base_uri": "https://localhost:8080/"
    },
    "id": "O1mPTytyhrXs",
    "outputId": "185a546b-933f-4d0e-86b5-c3f097728c70"
   },
   "outputs": [],
   "source": [
    "!wget https://archive.ics.uci.edu/ml/machine-learning-databases/00477/Real%20estate%20valuation%20data%20set.xlsx"
   ]
  },
  {
   "cell_type": "code",
   "execution_count": null,
   "metadata": {
    "colab": {
     "base_uri": "https://localhost:8080/",
     "height": 233
    },
    "id": "Um1iypxmiCM4",
    "outputId": "63ca7210-b4a9-4b43-c29d-2529e086843d"
   },
   "outputs": [],
   "source": [
    "import pandas as pd\n",
    "\n",
    "df = pd.read_excel('/content/Real estate valuation data set.xlsx')\n",
    "df.head()"
   ]
  },
  {
   "cell_type": "code",
   "execution_count": null,
   "metadata": {
    "colab": {
     "base_uri": "https://localhost:8080/",
     "height": 651
    },
    "id": "JW0z5nKtrwxR",
    "outputId": "9599c139-458a-492f-a227-72acce1c3d4a"
   },
   "outputs": [],
   "source": [
    "import matplotlib.pyplot as plt\n",
    "import seaborn as sns\n",
    "cols = df.columns[1:]\n",
    "sns.pairplot(df[cols])\n",
    "plt.tight_layout()\n",
    "plt.savefig('data_visualize.jpg')\n",
    "plt.show()"
   ]
  },
  {
   "cell_type": "markdown",
   "metadata": {
    "id": "9CerE8oVqPL7"
   },
   "source": [
    "បែងចែកទិន្នន័យ training and test"
   ]
  },
  {
   "cell_type": "code",
   "execution_count": null,
   "metadata": {
    "colab": {
     "base_uri": "https://localhost:8080/"
    },
    "id": "tyKMWgbfiCYP",
    "outputId": "3d5b2008-5ffc-4bfc-cdc4-a8e155245677"
   },
   "outputs": [],
   "source": [
    "data = df.to_numpy()\n",
    "data.shape"
   ]
  },
  {
   "cell_type": "code",
   "execution_count": null,
   "metadata": {
    "colab": {
     "base_uri": "https://localhost:8080/"
    },
    "id": "JoDYwfz1iCbV",
    "outputId": "3612f3da-4161-4bcb-800d-5bca5c3d8b95"
   },
   "outputs": [],
   "source": [
    "from sklearn.preprocessing import StandardScaler\n",
    "\n",
    "X = data[:,2:5]\n",
    "Y = data[:,7]\n",
    "print(X.shape)\n",
    "print(Y.shape)\n",
    "\n",
    "X_std = StandardScaler().fit_transform(X)\n",
    "\n",
    "Xtrain = X_std[:300]\n",
    "Ytrain = Y[:300]\n",
    "Xtest = X_std[300:]\n",
    "Ytest = Y[300:]\n",
    "print(Xtrain.shape)\n",
    "print(Xtest.shape)"
   ]
  },
  {
   "cell_type": "code",
   "execution_count": null,
   "metadata": {
    "colab": {
     "base_uri": "https://localhost:8080/"
    },
    "id": "MjE4ixLHj364",
    "outputId": "3687e4ad-056d-4376-f7b6-e22ea260199b"
   },
   "outputs": [],
   "source": [
    "Xtrain[0],X[0]"
   ]
  },
  {
   "cell_type": "markdown",
   "metadata": {
    "id": "oXgBc9kKqTGA"
   },
   "source": [
    "ដោះស្រាយតាមគណិតវិទ្យាវិភាគដោយ Python"
   ]
  },
  {
   "cell_type": "code",
   "execution_count": null,
   "metadata": {
    "id": "aqACi40_jNbl"
   },
   "outputs": [],
   "source": [
    "import numpy as np\n",
    "\n",
    "def fit(X,Y):\n",
    "  X_ = np.concatenate([np.ones(X.shape[0]).reshape(X.shape[0],1),X],axis=1)\n",
    "  w = np.linalg.inv(X_.T@X_)@X_.T@Y\n",
    "  return w\n",
    "\n",
    "def predict(X,w):\n",
    "  X_ = np.concatenate([np.ones(X.shape[0]).reshape(X.shape[0],1),X],axis=1)\n",
    "  return X_@w\n",
    "\n",
    "def error(X,Y,w):\n",
    "  Ypred = predict(X,w)\n",
    "  errors = Ypred - Y\n",
    "  return np.mean(errors**2)"
   ]
  },
  {
   "cell_type": "code",
   "execution_count": null,
   "metadata": {
    "colab": {
     "base_uri": "https://localhost:8080/"
    },
    "id": "ffthQwmtjNi4",
    "outputId": "daf71d79-16f0-449c-e527-860fb2d3e0a4"
   },
   "outputs": [],
   "source": [
    "w = fit(Xtrain,Ytrain)\n",
    "print(\"intercept:\",w[0])\n",
    "print(\"coef_:\",w[1:])"
   ]
  },
  {
   "cell_type": "code",
   "execution_count": null,
   "metadata": {
    "colab": {
     "base_uri": "https://localhost:8080/"
    },
    "id": "RTn5HHEEjNme",
    "outputId": "6dedb948-5d38-464a-d086-13154caf520c"
   },
   "outputs": [],
   "source": [
    "train_error = error(Xtrain,Ytrain,w)\n",
    "test_error = error(Xtest,Ytest,w)\n",
    "print(\"Training Error : \", train_error)\n",
    "print(\"Test Error : \", test_error)"
   ]
  },
  {
   "cell_type": "code",
   "execution_count": null,
   "metadata": {
    "colab": {
     "base_uri": "https://localhost:8080/"
    },
    "id": "k-p7nTmdqaNB",
    "outputId": "463d69b8-ba02-4cca-c988-55c06379109a"
   },
   "outputs": [],
   "source": [
    "cov_train = np.cov((Ytrain-predict(Xtrain,w)),Ytrain)\n",
    "print(\"training R2:\",1-cov_train[0,0]/cov_train[1,1])\n",
    "cov_test = np.cov((Ytest-predict(Xtest,w)),Ytest)\n",
    "print(\"test R2:\",1-cov_test[0,0]/cov_test[1,1])"
   ]
  },
  {
   "cell_type": "code",
   "execution_count": 17,
   "metadata": {
    "colab": {
     "base_uri": "https://localhost:8080/"
    },
    "id": "jZ_M4TmaV4DK",
    "outputId": "d34fcb7d-6a4d-45d0-fb7d-4b29b4c592c0"
   },
   "outputs": [
    {
     "name": "stdout",
     "output_type": "stream",
     "text": [
      "Example of Prediction\n"
     ]
    },
    {
     "ename": "NameError",
     "evalue": "name 'predict' is not defined",
     "output_type": "error",
     "traceback": [
      "\u001b[1;31m---------------------------------------------------------------------------\u001b[0m",
      "\u001b[1;31mNameError\u001b[0m                                 Traceback (most recent call last)",
      "\u001b[1;32m~\\AppData\\Local\\Temp/ipykernel_12440/3360744676.py\u001b[0m in \u001b[0;36m<module>\u001b[1;34m\u001b[0m\n\u001b[0;32m      1\u001b[0m \u001b[0mprint\u001b[0m\u001b[1;33m(\u001b[0m\u001b[1;34m\"Example of Prediction\"\u001b[0m\u001b[1;33m)\u001b[0m\u001b[1;33m\u001b[0m\u001b[1;33m\u001b[0m\u001b[0m\n\u001b[1;32m----> 2\u001b[1;33m \u001b[0mpredict_value\u001b[0m \u001b[1;33m=\u001b[0m \u001b[0mpredict\u001b[0m\u001b[1;33m(\u001b[0m\u001b[0mXtest\u001b[0m\u001b[1;33m,\u001b[0m\u001b[0mw\u001b[0m\u001b[1;33m)\u001b[0m\u001b[1;33m\u001b[0m\u001b[1;33m\u001b[0m\u001b[0m\n\u001b[0m\u001b[0;32m      3\u001b[0m \u001b[0midx\u001b[0m \u001b[1;33m=\u001b[0m \u001b[1;33m[\u001b[0m\u001b[1;36m410\u001b[0m\u001b[1;33m,\u001b[0m\u001b[1;36m370\u001b[0m\u001b[1;33m]\u001b[0m\u001b[1;33m\u001b[0m\u001b[1;33m\u001b[0m\u001b[0m\n\u001b[0;32m      4\u001b[0m \u001b[1;32mfor\u001b[0m \u001b[0mid\u001b[0m \u001b[1;32min\u001b[0m \u001b[0midx\u001b[0m\u001b[1;33m:\u001b[0m\u001b[1;33m\u001b[0m\u001b[1;33m\u001b[0m\u001b[0m\n\u001b[0;32m      5\u001b[0m   \u001b[0mprint\u001b[0m\u001b[1;33m(\u001b[0m\u001b[1;34m\"=========================\"\u001b[0m\u001b[1;33m)\u001b[0m\u001b[1;33m\u001b[0m\u001b[1;33m\u001b[0m\u001b[0m\n",
      "\u001b[1;31mNameError\u001b[0m: name 'predict' is not defined"
     ]
    }
   ],
   "source": [
    "print(\"Example of Prediction\")\n",
    "predict_value = predict(Xtest,w)\n",
    "idx = [410,370]\n",
    "for id in idx:\n",
    "  print(\"=========================\")\n",
    "  print(\"Explain variables:\",X[id])\n",
    "  print(\"Predict value:\",predict_value[id-300])\n",
    "  print(\"True value:\",Ytest[id-300])\n"
   ]
  },
  {
   "cell_type": "markdown",
   "metadata": {
    "id": "_lAGOA26qarw"
   },
   "source": [
    "ប្រើ sklearn.linear_model package"
   ]
  },
  {
   "cell_type": "code",
   "execution_count": null,
   "metadata": {
    "colab": {
     "base_uri": "https://localhost:8080/"
    },
    "id": "afwmVKl6oHSz",
    "outputId": "c2a98bf4-cd4d-4b19-b184-1a5e3280f19b"
   },
   "outputs": [],
   "source": [
    "from sklearn.linear_model import LinearRegression\n",
    "\n",
    "model = LinearRegression()\n",
    "model.fit(Xtrain,Ytrain)"
   ]
  },
  {
   "cell_type": "code",
   "execution_count": null,
   "metadata": {
    "colab": {
     "base_uri": "https://localhost:8080/"
    },
    "id": "2i_tXm7MpB4j",
    "outputId": "3dcce8ca-5558-41c7-e186-a939e0e5539d"
   },
   "outputs": [],
   "source": [
    "print(\"intercept:\",model.intercept_)\n",
    "print(\"coef_:\",model.coef_)"
   ]
  },
  {
   "cell_type": "code",
   "execution_count": null,
   "metadata": {
    "colab": {
     "base_uri": "https://localhost:8080/"
    },
    "id": "AGAdbuqQq65x",
    "outputId": "3fc278e0-8ec6-4cda-9b38-44a5c4f80b6d"
   },
   "outputs": [],
   "source": [
    "train_error = np.mean((model.predict(Xtrain)-Ytrain)**2)\n",
    "test_error = np.mean((model.predict(Xtest)-Ytest)**2)\n",
    "print(\"Training Error : \", train_error)\n",
    "print(\"Test Error : \", test_error)"
   ]
  },
  {
   "cell_type": "code",
   "execution_count": null,
   "metadata": {
    "colab": {
     "base_uri": "https://localhost:8080/"
    },
    "id": "KCAsyhPHohTg",
    "outputId": "c8c467d4-cca7-48a2-9b7f-fd6b5b799021"
   },
   "outputs": [],
   "source": [
    "print(\"training R2:\",model.score(Xtrain,Ytrain))\n",
    "print(\"test R2:\",model.score(Xtest,Ytest))"
   ]
  },
  {
   "cell_type": "markdown",
   "metadata": {
    "id": "LNUM5vqFTpvm"
   },
   "source": [
    "## Classification"
   ]
  },
  {
   "cell_type": "markdown",
   "metadata": {
    "id": "aa0B4GryPjS4"
   },
   "source": [
    "### Binary Classification : Spam mail classification"
   ]
  },
  {
   "cell_type": "code",
   "execution_count": null,
   "metadata": {
    "id": "7Xw_7nV3Ivox"
   },
   "outputs": [],
   "source": [
    "import math\n",
    "import random\n",
    "import numpy as np\n",
    "import matplotlib.pyplot as plt"
   ]
  },
  {
   "cell_type": "markdown",
   "metadata": {
    "id": "XFJeyL5CQAPe"
   },
   "source": [
    "#### Download dataset"
   ]
  },
  {
   "cell_type": "code",
   "execution_count": 18,
   "metadata": {
    "colab": {
     "base_uri": "https://localhost:8080/"
    },
    "id": "6NG9x-oARiCR",
    "outputId": "21eb028e-c683-4dde-b9b6-bd4afaf7479a"
   },
   "outputs": [
    {
     "name": "stderr",
     "output_type": "stream",
     "text": [
      "'wget' is not recognized as an internal or external command,\n",
      "operable program or batch file.\n"
     ]
    }
   ],
   "source": [
    "!wget https://archive.ics.uci.edu/ml/machine-learning-databases/00228/smsspamcollection.zip"
   ]
  },
  {
   "cell_type": "code",
   "execution_count": 19,
   "metadata": {
    "colab": {
     "base_uri": "https://localhost:8080/"
    },
    "id": "3DuFdpvfPyQH",
    "outputId": "dde8bb48-68d5-499c-93e4-b0dc27d4066d"
   },
   "outputs": [
    {
     "name": "stderr",
     "output_type": "stream",
     "text": [
      "'unzip' is not recognized as an internal or external command,\n",
      "operable program or batch file.\n"
     ]
    }
   ],
   "source": [
    "!unzip smsspamcollection.zip"
   ]
  },
  {
   "cell_type": "code",
   "execution_count": 20,
   "metadata": {
    "colab": {
     "base_uri": "https://localhost:8080/"
    },
    "id": "0ixXgU7fP1TU",
    "outputId": "84a53a44-60d1-49d6-c33b-786ed4eb7468"
   },
   "outputs": [
    {
     "name": "stderr",
     "output_type": "stream",
     "text": [
      "'head' is not recognized as an internal or external command,\n",
      "operable program or batch file.\n"
     ]
    }
   ],
   "source": [
    "!head SMSSpamCollection"
   ]
  },
  {
   "cell_type": "markdown",
   "metadata": {
    "id": "Gk6VTlzjQDOO"
   },
   "source": [
    "#### Data preprocessing"
   ]
  },
  {
   "cell_type": "code",
   "execution_count": 21,
   "metadata": {
    "id": "TNQniRG3P8Gy"
   },
   "outputs": [],
   "source": [
    "def tokenize(s):\n",
    "    tokens = s.split(' ')\n",
    "    return [t.rstrip('.') for t in tokens]"
   ]
  },
  {
   "cell_type": "markdown",
   "metadata": {
    "id": "0cR91lGKRFsu"
   },
   "source": [
    "spam $\\to$ y=1\n",
    "\n",
    "ham  $\\to$ y=0"
   ]
  },
  {
   "cell_type": "code",
   "execution_count": 22,
   "metadata": {
    "id": "MxuUnBexQK49"
   },
   "outputs": [
    {
     "ename": "FileNotFoundError",
     "evalue": "[Errno 2] No such file or directory: 'SMSSpamCollection'",
     "output_type": "error",
     "traceback": [
      "\u001b[1;31m---------------------------------------------------------------------------\u001b[0m",
      "\u001b[1;31mFileNotFoundError\u001b[0m                         Traceback (most recent call last)",
      "\u001b[1;32m~\\AppData\\Local\\Temp/ipykernel_12440/1892656491.py\u001b[0m in \u001b[0;36m<module>\u001b[1;34m\u001b[0m\n\u001b[0;32m      1\u001b[0m \u001b[0mD\u001b[0m \u001b[1;33m=\u001b[0m \u001b[1;33m[\u001b[0m\u001b[1;33m]\u001b[0m\u001b[1;33m\u001b[0m\u001b[1;33m\u001b[0m\u001b[0m\n\u001b[0;32m      2\u001b[0m \u001b[1;33m\u001b[0m\u001b[0m\n\u001b[1;32m----> 3\u001b[1;33m \u001b[1;32mwith\u001b[0m \u001b[0mopen\u001b[0m\u001b[1;33m(\u001b[0m\u001b[1;34m'SMSSpamCollection'\u001b[0m\u001b[1;33m)\u001b[0m \u001b[1;32mas\u001b[0m \u001b[0mfi\u001b[0m\u001b[1;33m:\u001b[0m\u001b[1;33m\u001b[0m\u001b[1;33m\u001b[0m\u001b[0m\n\u001b[0m\u001b[0;32m      4\u001b[0m     \u001b[1;32mfor\u001b[0m \u001b[0mline\u001b[0m \u001b[1;32min\u001b[0m \u001b[0mfi\u001b[0m\u001b[1;33m:\u001b[0m\u001b[1;33m\u001b[0m\u001b[1;33m\u001b[0m\u001b[0m\n\u001b[0;32m      5\u001b[0m         \u001b[0mfields\u001b[0m \u001b[1;33m=\u001b[0m \u001b[0mline\u001b[0m\u001b[1;33m.\u001b[0m\u001b[0mstrip\u001b[0m\u001b[1;33m(\u001b[0m\u001b[1;34m'\\n'\u001b[0m\u001b[1;33m)\u001b[0m\u001b[1;33m.\u001b[0m\u001b[0msplit\u001b[0m\u001b[1;33m(\u001b[0m\u001b[1;34m'\\t'\u001b[0m\u001b[1;33m)\u001b[0m\u001b[1;33m\u001b[0m\u001b[1;33m\u001b[0m\u001b[0m\n",
      "\u001b[1;31mFileNotFoundError\u001b[0m: [Errno 2] No such file or directory: 'SMSSpamCollection'"
     ]
    }
   ],
   "source": [
    "D = []\n",
    "\n",
    "with open('SMSSpamCollection') as fi:\n",
    "    for line in fi:\n",
    "        fields = line.strip('\\n').split('\\t')\n",
    "        x = tokenize(fields[1])\n",
    "        y = 1 if fields[0] == 'spam' else 0\n",
    "        D.append((x, y))"
   ]
  },
  {
   "cell_type": "code",
   "execution_count": null,
   "metadata": {
    "colab": {
     "base_uri": "https://localhost:8080/"
    },
    "id": "5fpvUbdYQL_u",
    "outputId": "94e20ecf-2ba8-496e-aa33-f912f02ac921"
   },
   "outputs": [],
   "source": [
    "print(\"Number of data N=\",len(D))\n",
    "print(\"Example:\",D[10])"
   ]
  },
  {
   "cell_type": "markdown",
   "metadata": {
    "id": "CeP4vCDkRSvq"
   },
   "source": [
    "រៀបចំទិន្នន័យសម្រាប់កំណត់ប៉ារ៉ាម៉ែត្រម៉ូឌែល(training data) និងសម្រាប់វាយតម្លៃ(test data)"
   ]
  },
  {
   "cell_type": "code",
   "execution_count": null,
   "metadata": {
    "id": "J3O6BVLoQQFS"
   },
   "outputs": [],
   "source": [
    "import random\n",
    "random.shuffle(D)\n",
    "Dtrain = D[:5000]\n",
    "Dtest = D[5000:]"
   ]
  },
  {
   "cell_type": "markdown",
   "metadata": {
    "id": "sU3nSLuGQXZ8"
   },
   "source": [
    "#### Logistic Regression Model with Python"
   ]
  },
  {
   "cell_type": "markdown",
   "metadata": {
    "id": "KhqPgFvxSU8E"
   },
   "source": [
    "កំណត់តម្លៃដំបូងនៃប៉ារ៉ាម៉ែត្ររបស់ម៉ូឌែលដោយ 0. គ្រប់កំប៉ូសង់របស់វា"
   ]
  },
  {
   "cell_type": "code",
   "execution_count": null,
   "metadata": {
    "id": "NrMVoqb6QUAQ"
   },
   "outputs": [],
   "source": [
    "W = {}\n",
    "for x, y in Dtrain:\n",
    "    for a in x:\n",
    "        W.setdefault(a, 0.)"
   ]
  },
  {
   "cell_type": "code",
   "execution_count": null,
   "metadata": {
    "id": "RQCkA3-DQaqD"
   },
   "outputs": [],
   "source": [
    "def score(W, x):\n",
    "  score_ = 0.\n",
    "  for a in x:\n",
    "    score_ += W.get(a, 0.)\n",
    "  return score_"
   ]
  },
  {
   "cell_type": "code",
   "execution_count": null,
   "metadata": {
    "id": "siHTIvOiQjph"
   },
   "outputs": [],
   "source": [
    "def sigmoid(a):\n",
    "    if 0 <= a:\n",
    "        return 1 / (1 + math.exp(-a))\n",
    "    else:\n",
    "        return 1. - 1 / (1 + math.exp(a))"
   ]
  },
  {
   "cell_type": "markdown",
   "metadata": {
    "id": "k_pDcq7vSgJf"
   },
   "source": [
    "កំណត់តម្លៃប៉ារ៉ាម៉ែត្រដោយប្រើ SGD "
   ]
  },
  {
   "cell_type": "code",
   "execution_count": null,
   "metadata": {
    "id": "O_bturIOQlzl"
   },
   "outputs": [],
   "source": [
    "eta = 0.1\n",
    "for t in range(1000):\n",
    "    loss = 0.\n",
    "    for x, y in Dtrain:\n",
    "        pi = sigmoid(score(W, x))\n",
    "        for a in x:\n",
    "            W[a] += eta * (y - pi)"
   ]
  },
  {
   "cell_type": "markdown",
   "metadata": {
    "id": "RVICtXcXSkdx"
   },
   "source": [
    "ប្រើ Accuracy ជារង្វាស់សម្រាប់វាយតម្លៃម៉ូឌែល"
   ]
  },
  {
   "cell_type": "code",
   "execution_count": null,
   "metadata": {
    "id": "dtZy0XiYQn3i"
   },
   "outputs": [],
   "source": [
    "def accuracy(W, Dtest):\n",
    "    n = 0\n",
    "    for x, y in Dtest:\n",
    "      if score(W, x) > 0:\n",
    "        n += y\n",
    "      else:\n",
    "        n += 1-y\n",
    "    return n / len(Dtest)"
   ]
  },
  {
   "cell_type": "code",
   "execution_count": null,
   "metadata": {
    "colab": {
     "base_uri": "https://localhost:8080/"
    },
    "id": "_-bIEajJQrdR",
    "outputId": "f7851ad4-57c4-4261-e243-334534ae3741"
   },
   "outputs": [],
   "source": [
    "accuracy(W, Dtest)"
   ]
  },
  {
   "cell_type": "markdown",
   "metadata": {
    "id": "vCmNxpXgSvzh"
   },
   "source": [
    "កំណត់ពាក្យដែលពិបាក និង ងាយស្រួល កំណត់សម្គាល់ spam mail តាមរយៈតម្លៃនៃប៉ារ៉ាម៉ែត្រ"
   ]
  },
  {
   "cell_type": "code",
   "execution_count": null,
   "metadata": {
    "id": "5JNlzPw8QtCm"
   },
   "outputs": [],
   "source": [
    "F = sorted(W.items(), key=lambda x:x[1])"
   ]
  },
  {
   "cell_type": "markdown",
   "metadata": {
    "id": "1L8Ola5VTBEr"
   },
   "source": [
    "ពាក្យដែលងាយមិនងាយសម្គាល់បានថាជា​ spam mail"
   ]
  },
  {
   "cell_type": "code",
   "execution_count": null,
   "metadata": {
    "colab": {
     "base_uri": "https://localhost:8080/"
    },
    "id": "de3_2dDgQvJn",
    "outputId": "04940f82-2691-492b-9986-f3dba5c14a5c"
   },
   "outputs": [],
   "source": [
    "F[:20]"
   ]
  },
  {
   "cell_type": "markdown",
   "metadata": {
    "id": "HaAwhW26TH5j"
   },
   "source": [
    "ពាក្យដែលងាយងាយស្រួលក្នុងការសម្គាល់បានថាជា​ spam mail"
   ]
  },
  {
   "cell_type": "code",
   "execution_count": null,
   "metadata": {
    "colab": {
     "base_uri": "https://localhost:8080/"
    },
    "id": "tRrej-QEQwb1",
    "outputId": "0e1df7ca-6ccc-4c91-ebac-b6fa7c2df3d5"
   },
   "outputs": [],
   "source": [
    "F[-20:]"
   ]
  },
  {
   "cell_type": "code",
   "execution_count": null,
   "metadata": {
    "id": "1U2-YfvSQymW"
   },
   "outputs": [],
   "source": []
  },
  {
   "cell_type": "markdown",
   "metadata": {
    "id": "9SFthTvneNwa"
   },
   "source": [
    "### Multi-class Classification : News Classification"
   ]
  },
  {
   "cell_type": "code",
   "execution_count": null,
   "metadata": {
    "colab": {
     "base_uri": "https://localhost:8080/"
    },
    "id": "0k3-H1zZeYVh",
    "outputId": "59688473-4865-4894-99e7-7cd6bbbaa05d"
   },
   "outputs": [],
   "source": [
    "from sklearn.datasets import fetch_20newsgroups\n",
    "categories = ['alt.atheism', 'talk.religion.misc','comp.graphics', 'sci.space']\n",
    "newsgroups_train = fetch_20newsgroups(subset='train', categories=categories)\n",
    "newsgroups_test = fetch_20newsgroups(subset='test', categories=categories)"
   ]
  },
  {
   "cell_type": "code",
   "execution_count": null,
   "metadata": {
    "colab": {
     "base_uri": "https://localhost:8080/"
    },
    "id": "Y1OC9stqitkj",
    "outputId": "8c96cbac-1d38-46c2-b454-e9e0cfdb1688"
   },
   "outputs": [],
   "source": [
    "newsgroups_train['data'][0],newsgroups_test['data'][0]"
   ]
  },
  {
   "cell_type": "code",
   "execution_count": null,
   "metadata": {
    "id": "WDvnyGiwiczB"
   },
   "outputs": [],
   "source": [
    "from sklearn.feature_extraction.text import CountVectorizer\n",
    "from sklearn.preprocessing import OneHotEncoder\n",
    "import numpy as np"
   ]
  },
  {
   "cell_type": "code",
   "execution_count": null,
   "metadata": {
    "colab": {
     "base_uri": "https://localhost:8080/"
    },
    "id": "MVey6HPLi_Tv",
    "outputId": "f691416d-f5c2-4022-e365-bfede1cd9f81"
   },
   "outputs": [],
   "source": [
    "vectorizer = CountVectorizer()\n",
    "Xtrain = vectorizer.fit_transform(newsgroups_train.data)\n",
    "Ytrain = newsgroups_train.target\n",
    "Ytrain_onehot = np.eye(len(categories))[Ytrain]\n",
    "\n",
    "\n",
    "Xtest = vectorizer.transform(newsgroups_test.data)\n",
    "Ytest = newsgroups_test.target\n",
    "Ytest_onehot = np.eye(len(categories))[Ytest]\n",
    "\n",
    "print(\"Training Data\")\n",
    "print(\"Number of Training Data (N) = %d\"%(Xtrain.shape[0]))\n",
    "print(\"Feature vector \",(Xtrain.shape))\n",
    "print(\"Train Label:\",(Ytrain_onehot.shape))\n",
    "\n",
    "print(\"Test Data\")\n",
    "print(\"Number of Test Data (N) = %d\"%(Xtest.shape[0]))\n",
    "print(\"Feature vector \",(Xtest.shape))\n",
    "print(\"Test Label:\",(Ytest_onehot.shape))"
   ]
  },
  {
   "cell_type": "code",
   "execution_count": null,
   "metadata": {
    "colab": {
     "base_uri": "https://localhost:8080/"
    },
    "id": "qy7dH-IqjGk2",
    "outputId": "6a1069f9-94fa-40cc-89eb-d6e40fadcd20"
   },
   "outputs": [],
   "source": [
    "from sklearn.linear_model import SGDClassifier\n",
    "\n",
    "model = SGDClassifier(loss='log')\n",
    "model.fit(Xtrain, Ytrain)"
   ]
  },
  {
   "cell_type": "code",
   "execution_count": null,
   "metadata": {
    "colab": {
     "base_uri": "https://localhost:8080/"
    },
    "id": "mu2mAeKUjH7g",
    "outputId": "7ae8be4f-c705-4d7c-a9ff-2bf9c6eb920c"
   },
   "outputs": [],
   "source": [
    "model.score(Xtest,Ytest)"
   ]
  },
  {
   "cell_type": "code",
   "execution_count": null,
   "metadata": {
    "id": "yyNsZiaPoSfZ"
   },
   "outputs": [],
   "source": []
  },
  {
   "cell_type": "code",
   "execution_count": null,
   "metadata": {
    "id": "AQoqOXt5rXK8"
   },
   "outputs": [],
   "source": []
  },
  {
   "cell_type": "markdown",
   "metadata": {
    "id": "R0ABPR5DAPJI"
   },
   "source": [
    "## Support Vector Machine"
   ]
  },
  {
   "cell_type": "markdown",
   "metadata": {
    "id": "NqvOXmu_AZmC"
   },
   "source": [
    "### Data Preparation"
   ]
  },
  {
   "cell_type": "code",
   "execution_count": null,
   "metadata": {
    "id": "qVNZVcWDASym"
   },
   "outputs": [],
   "source": [
    "import numpy as np\n",
    "from scipy.special import gamma\n",
    "import matplotlib.pyplot as plt"
   ]
  },
  {
   "cell_type": "code",
   "execution_count": null,
   "metadata": {
    "id": "gVvRqeBQAh9Y"
   },
   "outputs": [],
   "source": [
    "def twoData(number, classes=2, sd=1, r=None):\n",
    "  if r is None:\n",
    "    r = np.sqrt(classes)\n",
    "  e = np.random.choice(classes, size=number)\n",
    "  m = r*np.c_[np.sin(np.pi/4+e*2*np.pi/classes),\n",
    "              np.cos(np.pi/4+e*2*np.pi/classes)]\n",
    "  x = np.random.normal(scale=sd, size=2*number).reshape(number,2) + m\n",
    "  return [x,e]\n",
    "\n",
    "def circle(number, D=2):\n",
    "  D = round(D)\n",
    "  x = np.random.uniform(low=-1,high=1,size=number*D).reshape(number,D)\n",
    "  z = np.repeat(1,number)\n",
    "  r = (2**(D-1)*gamma(1+D/2)/(np.pi**(D/2)))**(1/D)\n",
    "  z[np.sum(x**2,1)>r**2] = 2\n",
    "  return [x,z]"
   ]
  },
  {
   "cell_type": "code",
   "execution_count": null,
   "metadata": {
    "colab": {
     "base_uri": "https://localhost:8080/",
     "height": 545
    },
    "id": "6O9K35KMCwtz",
    "outputId": "bfecb842-f303-4dd3-f8bf-72958e03ea8d"
   },
   "outputs": [],
   "source": [
    "X,y = twoData(100, 2, 0.4)\n",
    "mk = np.array(['r','g'])\n",
    "plt.scatter(X[:,0],X[:,1],c=mk[y])\n",
    "plt.title(\"Linear separable\")\n",
    "plt.show()\n",
    "\n",
    "X,y = twoData(100, 2, 2)\n",
    "mk = np.array(['r','g'])\n",
    "plt.scatter(X[:,0],X[:,1],c=mk[y])\n",
    "plt.title(\"Linear nonseparable\")\n",
    "plt.show()\n"
   ]
  },
  {
   "cell_type": "code",
   "execution_count": null,
   "metadata": {
    "colab": {
     "base_uri": "https://localhost:8080/",
     "height": 281
    },
    "id": "WCIOnKg2KMe0",
    "outputId": "a7048255-cd3b-44a9-b17e-20b08610a8e8"
   },
   "outputs": [],
   "source": [
    "X,y = circle(200, 2)\n",
    "mk = np.array(['r','g'])\n",
    "plt.scatter(X[:,0],X[:,1],c=mk[y-1])\n",
    "plt.title(\"Linear nonseparable- Circle\")\n",
    "plt.show()"
   ]
  },
  {
   "cell_type": "code",
   "execution_count": null,
   "metadata": {
    "id": "65GObJQeK6PJ"
   },
   "outputs": [],
   "source": []
  },
  {
   "cell_type": "code",
   "execution_count": null,
   "metadata": {
    "id": "sj83qdRhPlzb"
   },
   "outputs": [],
   "source": [
    "from matplotlib.colors import ListedColormap\n",
    "import matplotlib.pyplot as plt\n",
    "\n",
    "def plot_decision_regions(X, y, classifier, test_idx=None, resolution=0.02):\n",
    "\n",
    "    # setup marker generator and color map\n",
    "    markers = ('o', 'x', 's', '^', 'v')\n",
    "    colors = ('red', 'blue', 'lightgreen', 'gray', 'cyan')\n",
    "    cmap = ListedColormap(colors[:len(np.unique(y))])\n",
    "\n",
    "    # plot the decision surface\n",
    "    x1_min, x1_max = X[:, 0].min() - 0.1, X[:, 0].max() + 0.1\n",
    "    x2_min, x2_max = X[:, 1].min() - 0.1, X[:, 1].max() + 0.1\n",
    "    xx1, xx2 = np.meshgrid(np.arange(x1_min, x1_max, resolution),\n",
    "                           np.arange(x2_min, x2_max, resolution))\n",
    "    Z = classifier.predict(np.array([xx1.ravel(), xx2.ravel()]).T)\n",
    "    Z = Z.reshape(xx1.shape)\n",
    "    plt.contourf(xx1, xx2, Z, alpha=0.3, cmap=cmap)\n",
    "    plt.xlim(xx1.min(), xx1.max())\n",
    "    plt.ylim(xx2.min(), xx2.max())\n",
    "\n",
    "    for idx, cl in enumerate(np.unique(y)):\n",
    "        plt.scatter(x=X[y == cl, 0], \n",
    "                    y=X[y == cl, 1],\n",
    "                    alpha=0.8, \n",
    "                    c=colors[idx],\n",
    "                    marker=markers[idx], \n",
    "                    label=cl, \n",
    "                    edgecolor='black')\n",
    "\n",
    "    # highlight test samples\n",
    "    if test_idx:\n",
    "        # plot all samples\n",
    "        X_test, y_test = X[test_idx, :], y[test_idx]\n",
    "\n",
    "        plt.scatter(X_test[:, 0],\n",
    "                    X_test[:, 1],\n",
    "                    c='',\n",
    "                    edgecolor='black',\n",
    "                    alpha=1.0,\n",
    "                    linewidth=1,\n",
    "                    marker='o',\n",
    "                    s=100, \n",
    "                    label='test set')"
   ]
  },
  {
   "cell_type": "markdown",
   "metadata": {
    "id": "G8P0FCg8M_m5"
   },
   "source": [
    "### Support Vector Machine on Linear Seperable Data"
   ]
  },
  {
   "cell_type": "code",
   "execution_count": null,
   "metadata": {
    "colab": {
     "base_uri": "https://localhost:8080/",
     "height": 545
    },
    "id": "wqDwR82DNEvR",
    "outputId": "7df17caa-a3cc-4f6b-b221-3db5dc711a44"
   },
   "outputs": [],
   "source": [
    "Xtrain, ytrain = twoData(200, 2, 0.5)\n",
    "Xtest, ytest = twoData(100, 2, 0.5)\n",
    "\n",
    "mk = np.array(['r','g'])\n",
    "\n",
    "plt.scatter(Xtrain[:,0],Xtrain[:,1],c=mk[ytrain])\n",
    "plt.title(\"Training Data\")\n",
    "plt.show()\n",
    "\n",
    "plt.scatter(Xtest[:,0],Xtest[:,1],c=mk[ytest])\n",
    "plt.title(\"Test Data\")\n",
    "plt.show()"
   ]
  },
  {
   "cell_type": "code",
   "execution_count": null,
   "metadata": {
    "colab": {
     "base_uri": "https://localhost:8080/",
     "height": 579
    },
    "id": "FCVxjjZ2OATN",
    "outputId": "6fe43956-5e26-48e0-ad3c-65be8f59166f"
   },
   "outputs": [],
   "source": [
    "from sklearn.svm import SVC,LinearSVC\n",
    "\n",
    "sv_model = SVC(kernel=\"linear\", C=1.0, random_state=1)\n",
    "sv_model.fit(Xtrain,ytrain)\n",
    "print(\"Train score:\",sv_model.score(Xtrain,ytrain))\n",
    "print(\"Test score:\",sv_model.score(Xtest,ytest))\n",
    "\n",
    "plot_decision_regions(Xtrain,ytrain,classifier=sv_model)\n",
    "plt.title(\"Train Data\")\n",
    "plt.show()\n",
    "plot_decision_regions(Xtest,ytest,classifier=sv_model)\n",
    "plt.title(\"Test Data\")\n",
    "plt.show()"
   ]
  },
  {
   "cell_type": "code",
   "execution_count": null,
   "metadata": {
    "colab": {
     "base_uri": "https://localhost:8080/",
     "height": 579
    },
    "id": "UnK-veALmjid",
    "outputId": "e787ceb6-3e42-4add-e9df-e068ee854c11"
   },
   "outputs": [],
   "source": [
    "lr_model = LinearRegression()\n",
    "lr_model.fit(Xtrain,ytrain)\n",
    "print(\"Train score:\",lr_model.score(Xtrain,ytrain))\n",
    "print(\"Test score:\",lr_model.score(Xtest,ytest))\n",
    "\n",
    "plot_decision_regions(Xtrain,ytrain,classifier=lr_model)\n",
    "plt.title(\"Train Data\")\n",
    "plt.show()\n",
    "plot_decision_regions(Xtest,ytest,classifier=lr_model)\n",
    "plt.title(\"Linear Regression : Test Data Acc %.2f\"%(lr_model.score(Xtest,ytest)))\n",
    "plt.show()"
   ]
  },
  {
   "cell_type": "code",
   "execution_count": null,
   "metadata": {
    "colab": {
     "base_uri": "https://localhost:8080/",
     "height": 579
    },
    "id": "o8ZrM_PYBiiO",
    "outputId": "5cbeb1e7-a75b-46c8-df2b-2df17bc95b19"
   },
   "outputs": [],
   "source": [
    "lg_model = SGDClassifier(loss='log')\n",
    "lg_model.fit(Xtrain,ytrain)\n",
    "print(\"Train score:\",lg_model.score(Xtrain,ytrain))\n",
    "print(\"Test score:\",lg_model.score(Xtest,ytest))\n",
    "\n",
    "plot_decision_regions(Xtrain,ytrain,classifier=lg_model)\n",
    "plt.title(\"Train Data\")\n",
    "plt.show()\n",
    "plot_decision_regions(Xtest,ytest,classifier=lg_model)\n",
    "plt.title(\"Logistic Regression : Test Data Acc %.2f\"%(lg_model.score(Xtest,ytest)))\n",
    "plt.show()"
   ]
  },
  {
   "cell_type": "markdown",
   "metadata": {
    "id": "wHgKeSuQUrHa"
   },
   "source": [
    "### Support Vector Machine on Linear Non-Seperable Data"
   ]
  },
  {
   "cell_type": "code",
   "execution_count": null,
   "metadata": {
    "colab": {
     "base_uri": "https://localhost:8080/",
     "height": 545
    },
    "id": "YrlONHW4FO-K",
    "outputId": "4a2ee9ef-dc69-40d6-d814-d89c952f451d"
   },
   "outputs": [],
   "source": [
    "Xtrain, ytrain = twoData(100, 2, 1)\n",
    "Xtest, ytest = twoData(100, 2, 1)\n",
    "\n",
    "mk = np.array(['r','g'])\n",
    "\n",
    "plt.scatter(Xtrain[:,0],Xtrain[:,1],c=mk[ytrain])\n",
    "plt.title(\"Training Data\")\n",
    "plt.show()\n",
    "\n",
    "plt.scatter(Xtest[:,0],Xtest[:,1],c=mk[ytest])\n",
    "plt.title(\"Test Data\")\n",
    "plt.show()"
   ]
  },
  {
   "cell_type": "code",
   "execution_count": null,
   "metadata": {
    "colab": {
     "base_uri": "https://localhost:8080/",
     "height": 1000
    },
    "id": "i4tvVZQBFRPl",
    "outputId": "ea43f54e-b07e-4d4a-b67f-e96f9432e288"
   },
   "outputs": [],
   "source": [
    "from sklearn.svm import SVC,LinearSVC\n",
    "\n",
    "sv_model = SVC(kernel=\"linear\", C=1.0, random_state=1)\n",
    "sv_model.fit(Xtrain,ytrain)\n",
    "print(\"Train score:\",sv_model.score(Xtrain,ytrain))\n",
    "print(\"Test score:\",sv_model.score(Xtest,ytest))\n",
    "\n",
    "plot_decision_regions(Xtrain,ytrain,classifier=sv_model)\n",
    "plt.title(\"Train Data Accuracy %.2f\"%(sv_model.score(Xtrain,ytrain)))\n",
    "plt.show()\n",
    "plot_decision_regions(Xtest,ytest,classifier=sv_model)\n",
    "plt.title(\"Test Data Accuracy %.2f\"%(sv_model.score(Xtest,ytest)))\n",
    "plt.show()\n",
    "\n",
    "lr_model = LinearRegression()\n",
    "lr_model.fit(Xtrain,ytrain)\n",
    "print(\"Train score:\",lr_model.score(Xtrain,ytrain))\n",
    "print(\"Test score:\",lr_model.score(Xtest,ytest))\n",
    "\n",
    "plot_decision_regions(Xtrain,ytrain,classifier=lr_model)\n",
    "plt.title(\"Train Data\")\n",
    "plt.show()\n",
    "plot_decision_regions(Xtest,ytest,classifier=lr_model)\n",
    "plt.title(\"Linear Regression : Test Data Acc %.2f\"%(lr_model.score(Xtest,ytest)))\n",
    "plt.show()\n",
    "\n",
    "lg_model = SGDClassifier(loss='log')\n",
    "lg_model.fit(Xtrain,ytrain)\n",
    "print(\"Train score:\",lg_model.score(Xtrain,ytrain))\n",
    "print(\"Test score:\",lg_model.score(Xtest,ytest))\n",
    "\n",
    "plot_decision_regions(Xtrain,ytrain,classifier=lg_model)\n",
    "plt.title(\"Train Data\")\n",
    "plt.show()\n",
    "plot_decision_regions(Xtest,ytest,classifier=lg_model)\n",
    "plt.title(\"Logistic Regression : Test Data Acc %.2f\"%(lg_model.score(Xtest,ytest)))\n",
    "plt.show()"
   ]
  },
  {
   "cell_type": "code",
   "execution_count": null,
   "metadata": {
    "id": "IxN-7hsJFR6y"
   },
   "outputs": [],
   "source": []
  },
  {
   "cell_type": "code",
   "execution_count": null,
   "metadata": {
    "colab": {
     "base_uri": "https://localhost:8080/",
     "height": 545
    },
    "id": "F7KPJWCAT8Nx",
    "outputId": "5d3bdb9d-16e5-4b14-91b1-86e8a11141f9"
   },
   "outputs": [],
   "source": [
    "Xtrain, ytrain = circle(100, 2)\n",
    "Xtest, ytest = circle(100, 2)\n",
    "\n",
    "mk = np.array(['r','g'])\n",
    "\n",
    "plt.scatter(Xtrain[:,0],Xtrain[:,1],c=mk[ytrain-1])\n",
    "plt.title(\"Training Data\")\n",
    "plt.show()\n",
    "\n",
    "plt.scatter(Xtest[:,0],Xtest[:,1],c=mk[ytest-1])\n",
    "plt.title(\"Test Data\")\n",
    "plt.show()"
   ]
  },
  {
   "cell_type": "code",
   "execution_count": null,
   "metadata": {
    "colab": {
     "base_uri": "https://localhost:8080/",
     "height": 579
    },
    "id": "jjWRjKZ5U2t5",
    "outputId": "8b37fb6b-0a11-4a28-e806-c192449edc9e"
   },
   "outputs": [],
   "source": [
    "from sklearn.svm import SVC\n",
    "\n",
    "sv_model = SVC(kernel=\"rbf\", C=1.0, random_state=1)\n",
    "sv_model.fit(Xtrain,ytrain)\n",
    "print(\"Train score:\",sv_model.score(Xtrain,ytrain))\n",
    "print(\"Test score:\",sv_model.score(Xtest,ytest))\n",
    "\n",
    "plot_decision_regions(Xtrain,ytrain,classifier=sv_model)\n",
    "plt.title(\"Train Data Accuracy %.2f\"%(sv_model.score(Xtrain,ytrain)))\n",
    "plt.show()\n",
    "plot_decision_regions(Xtest,ytest,classifier=sv_model)\n",
    "plt.title(\"Test Data Accuracy %.2f\"%(sv_model.score(Xtest,ytest)))\n",
    "plt.show()"
   ]
  },
  {
   "cell_type": "code",
   "execution_count": null,
   "metadata": {
    "id": "jt7hAeYdFu16"
   },
   "outputs": [],
   "source": []
  },
  {
   "cell_type": "markdown",
   "metadata": {
    "id": "mh46WXxsRLya"
   },
   "source": [
    "## Clustering"
   ]
  },
  {
   "cell_type": "markdown",
   "metadata": {
    "id": "i_ghGa3jCw3N"
   },
   "source": [
    "### Data Preparation"
   ]
  },
  {
   "cell_type": "code",
   "execution_count": 23,
   "metadata": {
    "id": "zn3EKd5XRO0U"
   },
   "outputs": [
    {
     "ename": "ModuleNotFoundError",
     "evalue": "No module named 'sklearn'",
     "output_type": "error",
     "traceback": [
      "\u001b[1;31m---------------------------------------------------------------------------\u001b[0m",
      "\u001b[1;31mModuleNotFoundError\u001b[0m                       Traceback (most recent call last)",
      "\u001b[1;32m~\\AppData\\Local\\Temp/ipykernel_12440/1358317654.py\u001b[0m in \u001b[0;36m<module>\u001b[1;34m\u001b[0m\n\u001b[1;32m----> 1\u001b[1;33m \u001b[1;32mfrom\u001b[0m \u001b[0msklearn\u001b[0m\u001b[1;33m.\u001b[0m\u001b[0mdatasets\u001b[0m \u001b[1;32mimport\u001b[0m \u001b[0mmake_blobs\u001b[0m\u001b[1;33m\u001b[0m\u001b[1;33m\u001b[0m\u001b[0m\n\u001b[0m\u001b[0;32m      2\u001b[0m \u001b[1;32mimport\u001b[0m \u001b[0mmatplotlib\u001b[0m\u001b[1;33m.\u001b[0m\u001b[0mpyplot\u001b[0m \u001b[1;32mas\u001b[0m \u001b[0mplt\u001b[0m\u001b[1;33m\u001b[0m\u001b[1;33m\u001b[0m\u001b[0m\n",
      "\u001b[1;31mModuleNotFoundError\u001b[0m: No module named 'sklearn'"
     ]
    }
   ],
   "source": [
    "from sklearn.datasets import make_blobs\n",
    "import matplotlib.pyplot as plt"
   ]
  },
  {
   "cell_type": "code",
   "execution_count": null,
   "metadata": {
    "colab": {
     "base_uri": "https://localhost:8080/",
     "height": 297
    },
    "id": "U3IkD1YyRSuq",
    "outputId": "1a3c582c-f553-4b0a-aa01-88b99856fb9b"
   },
   "outputs": [],
   "source": [
    "X,y = make_blobs(n_samples=200, n_features=2, centers=3, cluster_std=1.0, shuffle=True)\n",
    "plt.scatter(X[:,0],X[:,1],c='white',marker='o',edgecolors='blue',s=50)\n",
    "plt.tight_layout()\n",
    "plt.show()"
   ]
  },
  {
   "cell_type": "markdown",
   "metadata": {
    "id": "cN04wsz8C0za"
   },
   "source": [
    "### K-means Algorithm"
   ]
  },
  {
   "cell_type": "code",
   "execution_count": null,
   "metadata": {
    "id": "gexsdC1KS9WZ"
   },
   "outputs": [],
   "source": [
    "from sklearn.cluster import KMeans\n",
    "KM = KMeans(n_clusters=3, init='random', n_init=10, max_iter=500, tol=1e-6)\n",
    "y_KM = KM.fit_predict(X) "
   ]
  },
  {
   "cell_type": "code",
   "execution_count": null,
   "metadata": {
    "colab": {
     "base_uri": "https://localhost:8080/",
     "height": 297
    },
    "id": "MJWZHUHmCsP0",
    "outputId": "54b3523c-69e8-401e-ff1f-e1254e820241"
   },
   "outputs": [],
   "source": [
    "plt.scatter(X[y_KM==0,0],X[y_KM==0,1],s=50,c='white',edgecolor='r',label='Cluster 1')\n",
    "plt.scatter(X[y_KM==1,0],X[y_KM==1,1],s=50,c='white',edgecolor='g',label='Cluster 2')\n",
    "plt.scatter(X[y_KM==2,0],X[y_KM==2,1],s=50,c='white',edgecolor='b',label='Cluster 3')\n",
    "plt.scatter(KM.cluster_centers_[:,0],KM.cluster_centers_[:,1],s=200,marker='*',c='black',label='Centroids')\n",
    "plt.legend(scatterpoints=1)\n",
    "plt.tight_layout()\n",
    "plt.show()"
   ]
  },
  {
   "cell_type": "code",
   "execution_count": null,
   "metadata": {
    "colab": {
     "base_uri": "https://localhost:8080/",
     "height": 577
    },
    "id": "9WE4jLqVEnBu",
    "outputId": "d0e506d0-6831-4cd0-8389-037841280c1d"
   },
   "outputs": [],
   "source": [
    "from matplotlib import cm\n",
    "import numpy as np\n",
    "from sklearn.metrics import silhouette_samples\n",
    "\n",
    "y_km = KM.fit_predict(X)\n",
    "\n",
    "plt.scatter(X[y_km==0,0],X[y_km==0,1],s=50,marker='o',label='Cluster 1')\n",
    "plt.scatter(X[y_km==1,0],X[y_km==1,1],s=50,marker='+',label='Cluster 2')\n",
    "plt.scatter(X[y_km==2,0],X[y_km==2,1],s=50,marker='v',label='Cluster 3')\n",
    "plt.scatter(KM.cluster_centers_[:,0],KM.cluster_centers_[:,1],s=200,marker='*',c='black',label='Centroids')\n",
    "plt.legend(scatterpoints=1)\n",
    "plt.tight_layout()\n",
    "plt.show() \n",
    "\n",
    "cluster_labels = np.unique(y_km)\n",
    "n_clusters = cluster_labels.shape[0]\n",
    "silhouette_vals = silhouette_samples(X, y_km, metric='euclidean')\n",
    "y_ax_lower, y_ax_upper = 0, 0\n",
    "yticks = []\n",
    "for i, c in enumerate(cluster_labels):\n",
    "    c_silhouette_vals = silhouette_vals[y_km == c]\n",
    "    c_silhouette_vals.sort()\n",
    "    y_ax_upper += len(c_silhouette_vals)\n",
    "    color = cm.jet(float(i) / n_clusters)\n",
    "    plt.barh(range(y_ax_lower, y_ax_upper), c_silhouette_vals, height=1.0, \n",
    "             edgecolor='none', color=color)\n",
    "\n",
    "    yticks.append((y_ax_lower + y_ax_upper) / 2.)\n",
    "    y_ax_lower += len(c_silhouette_vals)\n",
    "    \n",
    "silhouette_avg = np.mean(silhouette_vals)\n",
    "plt.axvline(silhouette_avg, color=\"red\", linestyle=\"--\") \n",
    "\n",
    "plt.yticks(yticks, cluster_labels + 1)\n",
    "plt.ylabel('Cluster')\n",
    "plt.xlabel('Silhouette Coefficient')\n",
    "\n",
    "plt.tight_layout()\n",
    "plt.show()"
   ]
  },
  {
   "cell_type": "code",
   "execution_count": null,
   "metadata": {
    "colab": {
     "base_uri": "https://localhost:8080/",
     "height": 577
    },
    "id": "NY3k7o8PVUMB",
    "outputId": "540b0d2d-3d19-4e29-f189-e5ed4a26cd0f"
   },
   "outputs": [],
   "source": [
    "km = KMeans(n_clusters=5, \n",
    "            init='k-means++', \n",
    "            n_init=10, \n",
    "            max_iter=300,\n",
    "            tol=1e-04,\n",
    "            random_state=0)\n",
    "y_km = km.fit_predict(X)\n",
    "\n",
    "plt.scatter(X[y_km==0,0],X[y_km==0,1],s=50,marker='o',label='Cluster 1')\n",
    "plt.scatter(X[y_km==1,0],X[y_km==1,1],s=50,marker='+',label='Cluster 2')\n",
    "plt.scatter(X[y_km==2,0],X[y_km==2,1],s=50,marker='v',label='Cluster 3')\n",
    "plt.scatter(X[y_km==3,0],X[y_km==3,1],s=50,marker='*',label='Cluster 4')\n",
    "plt.scatter(X[y_km==4,0],X[y_km==4,1],s=50,marker='x',label='Cluster 5')\n",
    "\n",
    "plt.scatter(km.cluster_centers_[:,0],km.cluster_centers_[:,1],s=200,marker='*',c='black',label='Centroids')\n",
    "plt.legend(scatterpoints=1)\n",
    "plt.tight_layout()\n",
    "plt.show()\n",
    "\n",
    "cluster_labels = np.unique(y_km)\n",
    "n_clusters = cluster_labels.shape[0]\n",
    "silhouette_vals = silhouette_samples(X, y_km, metric='euclidean')\n",
    "y_ax_lower, y_ax_upper = 0, 0\n",
    "yticks = []\n",
    "for i, c in enumerate(cluster_labels):\n",
    "    c_silhouette_vals = silhouette_vals[y_km == c]\n",
    "    c_silhouette_vals.sort()\n",
    "    y_ax_upper += len(c_silhouette_vals)\n",
    "    color = cm.jet(float(i) / n_clusters)\n",
    "    plt.barh(range(y_ax_lower, y_ax_upper), c_silhouette_vals, height=1.0, \n",
    "             edgecolor='none', color=color)\n",
    "\n",
    "    yticks.append((y_ax_lower + y_ax_upper) / 2.)\n",
    "    y_ax_lower += len(c_silhouette_vals)\n",
    "    \n",
    "silhouette_avg = np.mean(silhouette_vals)\n",
    "plt.axvline(silhouette_avg, color=\"red\", linestyle=\"--\") \n",
    "\n",
    "plt.yticks(yticks, cluster_labels + 1)\n",
    "plt.ylabel('Cluster')\n",
    "plt.xlabel('Silhouette coefficient')\n",
    "\n",
    "plt.tight_layout()\n",
    "plt.show()"
   ]
  },
  {
   "cell_type": "markdown",
   "metadata": {
    "id": "7XI4OG5UC5dR"
   },
   "source": [
    "### Gaussian Mixture Models"
   ]
  },
  {
   "cell_type": "code",
   "execution_count": null,
   "metadata": {
    "colab": {
     "base_uri": "https://localhost:8080/",
     "height": 297
    },
    "id": "Oib29S1JWTL5",
    "outputId": "02b429c3-40b7-4f92-f599-2bb44cb5b950"
   },
   "outputs": [],
   "source": [
    "from sklearn.mixture import GaussianMixture\n",
    "model = GaussianMixture(3).fit(X)\n",
    "classes = model.predict(X)\n",
    "\n",
    "mk = ['o','+','v']\n",
    "for i in np.arange(3):\n",
    "  j = (classes==i)\n",
    "  plt.scatter(X[j,0],X[j,1],marker=mk[i],label='Cluster'+str(i+1))\n",
    "plt.tight_layout()\n",
    "plt.legend()\n",
    "plt.show()"
   ]
  },
  {
   "cell_type": "code",
   "execution_count": null,
   "metadata": {
    "id": "1ss2C4sDdAvU"
   },
   "outputs": [],
   "source": []
  },
  {
   "cell_type": "markdown",
   "metadata": {
    "id": "pgNWYx9HC87G"
   },
   "source": [
    "## Gaussian Process Model"
   ]
  },
  {
   "cell_type": "code",
   "execution_count": null,
   "metadata": {
    "id": "9e2oiB2eE_Qv"
   },
   "outputs": [],
   "source": [
    "import numpy as np\n",
    "import matplotlib.pyplot as plt\n",
    "import sklearn.gaussian_process as gp"
   ]
  },
  {
   "cell_type": "code",
   "execution_count": null,
   "metadata": {
    "id": "E33EoaKvFEz8"
   },
   "outputs": [],
   "source": [
    "def GaussianProcessK(xv,zv,sd=1):\n",
    "  return np.outer(xv,zv) + sd**2*np.equal.outer(xv,zv)"
   ]
  },
  {
   "cell_type": "code",
   "execution_count": null,
   "metadata": {
    "id": "hZMDac1sFnYb"
   },
   "outputs": [],
   "source": [
    "N = 100\n",
    "sd = 1.5\n",
    "theta = 1.0"
   ]
  },
  {
   "cell_type": "code",
   "execution_count": null,
   "metadata": {
    "colab": {
     "base_uri": "https://localhost:8080/",
     "height": 265
    },
    "id": "gGEfgQJDFy-8",
    "outputId": "9dbd2ad1-0cbf-4065-d962-af4a00638063"
   },
   "outputs": [],
   "source": [
    "X = np.random.normal(scale=3, size=N)\n",
    "y = np.dot(X,theta) + np.random.normal(scale=sd, size=N)\n",
    "xx = np.linspace(X.min(),X.max(),200)\n",
    "\n",
    "K_X = GaussianProcessK(X,X,sd=sd)\n",
    "kxx = GaussianProcessK(xx,X,sd=sd)\n",
    "K_xx = GaussianProcessK(xx,xx,sd=sd)\n",
    "\n",
    "GP_f = np.dot(kxx, np.linalg.solve(K_X,y))\n",
    "GP_v = np.maximum(np.diag(K_xx-np.dot(kxx,np.linalg.solve(K_X,kxx.T))),0)\n",
    "\n",
    "plt.xlim(X.min()-1,X.max()+1)\n",
    "plt.scatter(X,y)\n",
    "plt.plot(xx, GP_f, 'k-', lw=2)\n",
    "\n",
    "plt.plot(xx, GP_f+np.sqrt(GP_v), 'k--', lw=1)\n",
    "plt.plot(xx, GP_f-np.sqrt(GP_v), 'k--', lw=1)\n",
    "plt.show()"
   ]
  },
  {
   "cell_type": "code",
   "execution_count": null,
   "metadata": {
    "id": "fBv1AvrpFzCY"
   },
   "outputs": [],
   "source": []
  },
  {
   "cell_type": "markdown",
   "metadata": {
    "id": "en4xoNkHDsJC"
   },
   "source": [
    "### Regression Analysis with Gaussian Process Model"
   ]
  },
  {
   "cell_type": "code",
   "execution_count": null,
   "metadata": {
    "colab": {
     "base_uri": "https://localhost:8080/",
     "height": 265
    },
    "id": "k7XjlZ1JDDOz",
    "outputId": "7ab55bb7-86a1-4da9-c5fd-7293ab27e62c"
   },
   "outputs": [],
   "source": [
    "N = 200\n",
    "sd = 1.5\n",
    "theta = 1.0\n",
    "\n",
    "X = np.random.normal(scale=3, size=N).reshape(N,-1)\n",
    "y = np.dot(X, theta) + np.random.normal(scale=sd, size=N).reshape(N,-1)\n",
    "\n",
    "kernel = gp.kernels.RBF() + gp.kernels.WhiteKernel()\n",
    "GP_model = gp.GaussianProcessRegressor(kernel = kernel)\n",
    "GP_model.fit(X,y)\n",
    "\n",
    "xx = np.linspace(-6.5,6.5,100).reshape(100,-1)\n",
    "GP_f, GP_v = GP_model.predict(xx, return_cov=True)\n",
    "GPsd = np.sqrt(np.diag(GP_v))\n",
    "\n",
    "plt.xlim(-7,7)\n",
    "plt.scatter(X,y)\n",
    "plt.plot(xx, GP_f, 'k-', lw=2)\n",
    "plt.plot(xx, GP_f+GPsd, 'k--', lw=1)\n",
    "plt.plot(xx, GP_f-GPsd, 'k--', lw=1)\n",
    "plt.show()"
   ]
  },
  {
   "cell_type": "markdown",
   "metadata": {
    "id": "BA9QWCLkDxY7"
   },
   "source": [
    "### Discrimination Analysis with Gaussian Process Model"
   ]
  },
  {
   "cell_type": "code",
   "execution_count": null,
   "metadata": {
    "id": "oHtY1iXGD2wR"
   },
   "outputs": [],
   "source": [
    "def onespiral(n, cyc=1, sd=0):\n",
    "  w = np.linspace(0,cyc,n)\n",
    "  x = np.zeros((n,2))\n",
    "  x[:,0] = (2*w+1)*np.cos(2*np.pi*w)/3\n",
    "  x[:,1] = (2*w+1)*np.sin(2*np.pi*w)/3\n",
    "  if sd > 0:\n",
    "    e = np.random.normal(scale=sd, size=n)\n",
    "    xs = np.cos(2*np.pi*w) - np.pi*(2*w+1)*np.sin(2*np.pi*w)\n",
    "    ys = np.sin(2*np.pi*w) + np.pi*(2*w+1)*np.cos(2*np.pi*w)\n",
    "    nrm = np.sqrt(xs**2 + ys**2)\n",
    "    x[:,0] = x[:,0] + e*ys/nrm\n",
    "    x[:,1] = x[:,1] + e*xs/nrm\n",
    "  return x\n",
    "\n",
    "def spirals(n, cyc=1, sd=0, label=[0,1]):\n",
    "  x = np.zeros((n,2))\n",
    "  c2 = np.random.choice(n,size=round(n/2),replace=False)\n",
    "  c1 = np.delete(np.arange(n),c2)\n",
    "  classes = np.repeat(label[0],n)\n",
    "  classes[c2] = label[1]\n",
    "  x[c1,:] = onespiral(c1.size, cyc=cyc, sd=sd)\n",
    "  x[c2,:] = onespiral(c2.size, cyc=cyc, sd=sd)\n",
    "  return [x,classes]"
   ]
  },
  {
   "cell_type": "code",
   "execution_count": null,
   "metadata": {
    "id": "9QZFAkMkMj2H"
   },
   "outputs": [],
   "source": [
    "from sklearn.datasets import make_moons,make_circles"
   ]
  },
  {
   "cell_type": "code",
   "execution_count": 24,
   "metadata": {
    "colab": {
     "base_uri": "https://localhost:8080/",
     "height": 498
    },
    "id": "8JmvAJNZJrip",
    "outputId": "36657612-f4c5-452e-e1d2-33f1dc2ee3a8"
   },
   "outputs": [
    {
     "ename": "NameError",
     "evalue": "name 'make_moons' is not defined",
     "output_type": "error",
     "traceback": [
      "\u001b[1;31m---------------------------------------------------------------------------\u001b[0m",
      "\u001b[1;31mNameError\u001b[0m                                 Traceback (most recent call last)",
      "\u001b[1;32m~\\AppData\\Local\\Temp/ipykernel_12440/565558760.py\u001b[0m in \u001b[0;36m<module>\u001b[1;34m\u001b[0m\n\u001b[1;32m----> 1\u001b[1;33m \u001b[0mX\u001b[0m\u001b[1;33m,\u001b[0m\u001b[0my\u001b[0m \u001b[1;33m=\u001b[0m \u001b[0mmake_moons\u001b[0m\u001b[1;33m(\u001b[0m\u001b[1;36m200\u001b[0m\u001b[1;33m,\u001b[0m\u001b[0mnoise\u001b[0m\u001b[1;33m=\u001b[0m\u001b[1;36m0.15\u001b[0m\u001b[1;33m)\u001b[0m\u001b[1;33m\u001b[0m\u001b[1;33m\u001b[0m\u001b[0m\n\u001b[0m\u001b[0;32m      2\u001b[0m \u001b[1;33m\u001b[0m\u001b[0m\n\u001b[0;32m      3\u001b[0m \u001b[0mcolors\u001b[0m \u001b[1;33m=\u001b[0m \u001b[0mnp\u001b[0m\u001b[1;33m.\u001b[0m\u001b[0marray\u001b[0m\u001b[1;33m(\u001b[0m\u001b[1;33m[\u001b[0m\u001b[1;34m'r'\u001b[0m\u001b[1;33m,\u001b[0m\u001b[1;34m'g'\u001b[0m\u001b[1;33m]\u001b[0m\u001b[1;33m)\u001b[0m\u001b[1;33m\u001b[0m\u001b[1;33m\u001b[0m\u001b[0m\n\u001b[0;32m      4\u001b[0m \u001b[0mplt\u001b[0m\u001b[1;33m.\u001b[0m\u001b[0mscatter\u001b[0m\u001b[1;33m(\u001b[0m\u001b[0mX\u001b[0m\u001b[1;33m[\u001b[0m\u001b[1;33m:\u001b[0m\u001b[1;33m,\u001b[0m\u001b[1;36m0\u001b[0m\u001b[1;33m]\u001b[0m\u001b[1;33m,\u001b[0m\u001b[0mX\u001b[0m\u001b[1;33m[\u001b[0m\u001b[1;33m:\u001b[0m\u001b[1;33m,\u001b[0m\u001b[1;36m1\u001b[0m\u001b[1;33m]\u001b[0m\u001b[1;33m,\u001b[0m\u001b[0mc\u001b[0m\u001b[1;33m=\u001b[0m\u001b[0mcolors\u001b[0m\u001b[1;33m[\u001b[0m\u001b[0my\u001b[0m\u001b[1;33m]\u001b[0m\u001b[1;33m)\u001b[0m\u001b[1;33m\u001b[0m\u001b[1;33m\u001b[0m\u001b[0m\n\u001b[0;32m      5\u001b[0m \u001b[0mplt\u001b[0m\u001b[1;33m.\u001b[0m\u001b[0mshow\u001b[0m\u001b[1;33m(\u001b[0m\u001b[1;33m)\u001b[0m\u001b[1;33m\u001b[0m\u001b[1;33m\u001b[0m\u001b[0m\n",
      "\u001b[1;31mNameError\u001b[0m: name 'make_moons' is not defined"
     ]
    }
   ],
   "source": [
    "X,y = make_moons(200,noise=0.15)\n",
    "\n",
    "colors = np.array(['r','g'])\n",
    "plt.scatter(X[:,0],X[:,1],c=colors[y])\n",
    "plt.show()\n",
    "\n",
    "kernel = gp.kernels.RBF()+gp.kernels.WhiteKernel()\n",
    "GPmodel = gp.GaussianProcessClassifier(kernel=kernel)\n",
    "GPmodel.fit(X,y)\n",
    "\n",
    "xx = np.linspace(-1.2,1.2,100)\n",
    "test_data = np.array([(y,x) for x in xx for y in xx])\n",
    "GP_predict = GPmodel.predict(test_data)\n",
    "\n",
    "ext = (np.min(X[:,0]), np.max(X[:,0]), np.min(X[:,1]), np.max(X[:,1]))\n",
    "plt.imshow(GP_predict.reshape(100,-1)[::-1],cmap='gray',extent=ext)\n",
    "plt.show()"
   ]
  },
  {
   "cell_type": "code",
   "execution_count": null,
   "metadata": {
    "id": "FN2JWXMTKjdn"
   },
   "outputs": [],
   "source": [
    "noisy_circles = datasets.make_circles(n_samples=n_samples, factor=.5,\n",
    "                                      noise=.05)"
   ]
  },
  {
   "cell_type": "code",
   "execution_count": null,
   "metadata": {
    "colab": {
     "base_uri": "https://localhost:8080/",
     "height": 513
    },
    "id": "sjjtAmxpNzir",
    "outputId": "fd580ee8-f021-4a0a-9081-7119dcfb90ef"
   },
   "outputs": [],
   "source": [
    "X,y = make_circles(n_samples=200, factor=.5,noise=.15)\n",
    "\n",
    "colors = np.array(['r','g'])\n",
    "plt.scatter(X[:,0],X[:,1],c=colors[y])\n",
    "plt.show()\n",
    "\n",
    "kernel = gp.kernels.RBF()+gp.kernels.WhiteKernel()\n",
    "GPmodel = gp.GaussianProcessClassifier(kernel=kernel)\n",
    "GPmodel.fit(X,y)\n",
    "\n",
    "xx = np.linspace(-1.2,1.2,100)\n",
    "test_data = np.array([(y,x) for x in xx for y in xx])\n",
    "GP_predict = GPmodel.predict(test_data)\n",
    "\n",
    "ext = (np.min(X[:,0]), np.max(X[:,0]), np.min(X[:,1]), np.max(X[:,1]))\n",
    "plt.imshow(GP_predict.reshape(100,-1)[::-1],cmap='gray',extent=ext)\n",
    "plt.show()"
   ]
  },
  {
   "cell_type": "code",
   "execution_count": null,
   "metadata": {
    "id": "YVyaoJLpOhce"
   },
   "outputs": [],
   "source": []
  }
 ],
 "metadata": {
  "colab": {
   "name": "MLwithPython.ipynb",
   "provenance": [],
   "toc_visible": true
  },
  "kernelspec": {
   "display_name": "Python 3 (ipykernel)",
   "language": "python",
   "name": "python3"
  },
  "language_info": {
   "codemirror_mode": {
    "name": "ipython",
    "version": 3
   },
   "file_extension": ".py",
   "mimetype": "text/x-python",
   "name": "python",
   "nbconvert_exporter": "python",
   "pygments_lexer": "ipython3",
   "version": "3.9.5"
  }
 },
 "nbformat": 4,
 "nbformat_minor": 1
}
